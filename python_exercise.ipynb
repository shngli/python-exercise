{
 "cells": [
  {
   "cell_type": "markdown",
   "id": "49e95d02",
   "metadata": {},
   "source": [
    "# Data Structures"
   ]
  },
  {
   "cell_type": "code",
   "execution_count": 1,
   "id": "1d15aae9",
   "metadata": {},
   "outputs": [],
   "source": [
    "import numpy as np"
   ]
  },
  {
   "cell_type": "markdown",
   "id": "bdcd22dd",
   "metadata": {},
   "source": [
    "## 1.1) Function to merge and sort arrays\n",
    "Suppose you're given two lists, each unsorted. Write a function to take in the two lists, merge them, and then sort them in ascending order.\n",
    "\n",
    "```\n",
    "Example:\n",
    "Input: a = [6, 11, 8], b = [10, 34, 22]\n",
    "Output: [6, 8, 10, 11, 22, 34]\n",
    "```   "
   ]
  },
  {
   "cell_type": "code",
   "execution_count": 2,
   "id": "786814c5",
   "metadata": {},
   "outputs": [],
   "source": [
    "def MergeSort(a, b): \n",
    "    # Concat arrays  \n",
    "    c = a + b \n",
    "    \n",
    "    # Sort arrays in ascending order by default  \n",
    "    c.sort()\n",
    "    return c"
   ]
  },
  {
   "cell_type": "code",
   "execution_count": 3,
   "id": "56642e82",
   "metadata": {},
   "outputs": [
    {
     "name": "stdout",
     "output_type": "stream",
     "text": [
      "[2, 3, 5, 10, 12, 15, 20]\n"
     ]
    }
   ],
   "source": [
    "# Define arrays to concat\n",
    "a = [ 10, 5, 15 ] \n",
    "b = [ 20, 3, 2, 12 ]\n",
    "\n",
    "# Output: [2, 3, 5, 10, 12, 15, 20]\n",
    "print(MergeSort(a,b))"
   ]
  },
  {
   "cell_type": "code",
   "execution_count": null,
   "id": "09386a37",
   "metadata": {},
   "outputs": [],
   "source": []
  },
  {
   "cell_type": "markdown",
   "id": "02b0f4d9",
   "metadata": {},
   "source": [
    "--------"
   ]
  },
  {
   "cell_type": "markdown",
   "id": "ea226e87",
   "metadata": {},
   "source": [
    "## 1.2a) Linear Search in Tuple\n",
    "Search function with parameter list name and the value to be searched"
   ]
  },
  {
   "cell_type": "code",
   "execution_count": 4,
   "id": "b2ea9e39",
   "metadata": {},
   "outputs": [],
   "source": [
    "def search(Tuple, n):\n",
    "  \n",
    "    for i in range(len(Tuple)):\n",
    "        if Tuple[i] == n:\n",
    "            return True\n",
    "        \n",
    "    return False"
   ]
  },
  {
   "cell_type": "code",
   "execution_count": 5,
   "id": "789b1516",
   "metadata": {},
   "outputs": [
    {
     "name": "stdout",
     "output_type": "stream",
     "text": [
      "Found\n"
     ]
    }
   ],
   "source": [
    "# Tuple contains both string and numbers\n",
    "Tup = (1, 2, 'sachin', 4, 'Geeks', 6)\n",
    "\n",
    "# Driver Code\n",
    "n = 'Geeks'\n",
    "\n",
    "# Output: Found\n",
    "if search(Tup, n):\n",
    "    print(\"Found\")\n",
    "else:\n",
    "    print(\"Not Found\")"
   ]
  },
  {
   "cell_type": "code",
   "execution_count": null,
   "id": "ce37c0eb",
   "metadata": {},
   "outputs": [],
   "source": []
  },
  {
   "cell_type": "markdown",
   "id": "ae6241a1",
   "metadata": {},
   "source": [
    "## 1.2b) Python function to count tuple elements\n",
    "Suppose you are given a tuple containing ints and strings. Write a Python function to return the # of times a given element, n, appears in the tuple. For example, given the tuple below, where n=3, your function should return 4, since 3 appears 4 times in the tuple.\n",
    "\n",
    "```\n",
    "input:\n",
    "n = 3\n",
    "my_tuple = 2, 'my_string', 4, 3, 3, 3, 2, 3\n",
    "\n",
    "output:\n",
    "4\n",
    "```\n",
    "\n",
    "### Solution:\n",
    "A tuple is an immutable Python list with heterogeneous elements. For this question, we use Python's count function to count the occurrences of the element n, and feed that count into a variable."
   ]
  },
  {
   "cell_type": "code",
   "execution_count": 86,
   "id": "dcbbb801",
   "metadata": {},
   "outputs": [],
   "source": [
    "def countElement(my_tuple, n):\n",
    "    \n",
    "    # count occurances of element n\n",
    "    count = my_tuple.count(n)\n",
    "    return count"
   ]
  },
  {
   "cell_type": "code",
   "execution_count": 87,
   "id": "8769af22",
   "metadata": {},
   "outputs": [
    {
     "name": "stdout",
     "output_type": "stream",
     "text": [
      "(2, 'my_string', 4, 3, 3, 3, 2, 3)\n"
     ]
    },
    {
     "data": {
      "text/plain": [
       "4"
      ]
     },
     "execution_count": 87,
     "metadata": {},
     "output_type": "execute_result"
    }
   ],
   "source": [
    "# tuple we want to loop through\n",
    "my_tuple = (2, 'my_string', 4, 3, 3, 3, 2, 3)\n",
    "print(my_tuple)\n",
    "\n",
    "# element we want to count\n",
    "n = 3\n",
    "countElement(my_tuple, n)"
   ]
  },
  {
   "cell_type": "code",
   "execution_count": null,
   "id": "059e94a2",
   "metadata": {},
   "outputs": [],
   "source": []
  },
  {
   "cell_type": "markdown",
   "id": "ccd1eec1",
   "metadata": {},
   "source": [
    "--------"
   ]
  },
  {
   "cell_type": "markdown",
   "id": "e43fa766",
   "metadata": {},
   "source": [
    "## 1.3a) Check if element exists in list"
   ]
  },
  {
   "cell_type": "code",
   "execution_count": 6,
   "id": "2f4d7a36",
   "metadata": {},
   "outputs": [
    {
     "data": {
      "text/plain": [
       "True"
      ]
     },
     "execution_count": 6,
     "metadata": {},
     "output_type": "execute_result"
    }
   ],
   "source": [
    "def searchl(L, t):\n",
    "    if (t in L):\n",
    "        return True\n",
    "    else:\n",
    "        return False\n",
    "    \n",
    "# Initializing list\n",
    "testl = [1, 6, 3, 5, 3, 4]\n",
    "target = 4\n",
    "\n",
    "# Output: True\n",
    "searchl(testl,target)"
   ]
  },
  {
   "cell_type": "code",
   "execution_count": null,
   "id": "2d413b25",
   "metadata": {},
   "outputs": [],
   "source": []
  },
  {
   "cell_type": "markdown",
   "id": "8dbbe5ab",
   "metadata": {},
   "source": [
    "## 1.3b) Check if element exists in list of list"
   ]
  },
  {
   "cell_type": "code",
   "execution_count": 7,
   "id": "37738364",
   "metadata": {},
   "outputs": [],
   "source": [
    "ini_list = [[1, 2, 5, 6],\n",
    "            [10, 12, 14, 18],\n",
    "            [20, 22, 25, 29]]\n",
    "\n",
    "target1 = 3\n",
    "target2 = 14"
   ]
  },
  {
   "cell_type": "code",
   "execution_count": 8,
   "id": "f2407cb5",
   "metadata": {},
   "outputs": [
    {
     "name": "stdout",
     "output_type": "stream",
     "text": [
      "False\n",
      "True\n"
     ]
    }
   ],
   "source": [
    "# Solution 1: any() method return true whenever an element \n",
    "# is present in a given iterator\n",
    "\n",
    "res1 = any(target1 in sublist for sublist in ini_list)\n",
    "res2 = any(target2 in sublist for sublist in ini_list)\n",
    "\n",
    "# Output: False, True\n",
    "print(str(res1))\n",
    "print(str(res2))"
   ]
  },
  {
   "cell_type": "code",
   "execution_count": 9,
   "id": "28e838e1",
   "metadata": {},
   "outputs": [
    {
     "name": "stdout",
     "output_type": "stream",
     "text": [
      "False\n",
      "True\n"
     ]
    }
   ],
   "source": [
    "# Solution 2: ‘in’ operator is used to check if a value \n",
    "# exists in a sequence or not. Evaluates to true if it \n",
    "# finds a variable in the specified sequence element exists \n",
    "# in list of list or not.\n",
    "\n",
    "res1b = target1 in (item for sublist in ini_list for item in sublist)\n",
    "res2b = target2 in (item for sublist in ini_list for item in sublist)\n",
    "  \n",
    "# Output: False, True\n",
    "print(str(res1b))\n",
    "print(str(res2b))"
   ]
  },
  {
   "cell_type": "code",
   "execution_count": null,
   "id": "81704ebd",
   "metadata": {},
   "outputs": [],
   "source": []
  },
  {
   "cell_type": "markdown",
   "id": "4852ed8a",
   "metadata": {},
   "source": [
    "## 1.3c) Check if a list exists in given list of lists"
   ]
  },
  {
   "cell_type": "code",
   "execution_count": 10,
   "id": "3ef20f7f",
   "metadata": {},
   "outputs": [
    {
     "data": {
      "text/plain": [
       "True"
      ]
     },
     "execution_count": 10,
     "metadata": {},
     "output_type": "execute_result"
    }
   ],
   "source": [
    "# Checking if target exists in list\n",
    "def searchll(L, t):\n",
    "    if (t in L):\n",
    "        return True\n",
    "    else:\n",
    "        return False\n",
    "    \n",
    "# Initializing list\n",
    "testll = [[1, 1, 1, 2], [2, 3, 4], [1, 2, 3], [4, 5, 6]]\n",
    "targetl = [1, 1, 1, 2]\n",
    "\n",
    "# Output: True\n",
    "searchll(testll,targetl)"
   ]
  },
  {
   "cell_type": "code",
   "execution_count": null,
   "id": "be817aef",
   "metadata": {},
   "outputs": [],
   "source": []
  },
  {
   "cell_type": "markdown",
   "id": "565f019a",
   "metadata": {},
   "source": [
    "## 1.3d) Check if one list is subset of other"
   ]
  },
  {
   "cell_type": "code",
   "execution_count": 11,
   "id": "ee128f39",
   "metadata": {},
   "outputs": [
    {
     "data": {
      "text/plain": [
       "True"
      ]
     },
     "execution_count": 11,
     "metadata": {},
     "output_type": "execute_result"
    }
   ],
   "source": [
    "def searchsl(tlist, slist):\n",
    "    if((set(slist) & set(tlist)) == set(slist)):\n",
    "        return True\n",
    "    else:\n",
    "        return False\n",
    "    \n",
    "# Initializing list\n",
    "test_list = [9, 4, 5, 8, 10]\n",
    "sub_list = [10, 5]\n",
    "\n",
    "# Output: True\n",
    "searchsl(test_list,sub_list)"
   ]
  },
  {
   "cell_type": "code",
   "execution_count": null,
   "id": "5989b803",
   "metadata": {},
   "outputs": [],
   "source": []
  },
  {
   "cell_type": "markdown",
   "id": "c787d906",
   "metadata": {},
   "source": [
    "## 1.3e) Check if a list is contained in another list \n",
    "Must comply with sequence"
   ]
  },
  {
   "cell_type": "code",
   "execution_count": 12,
   "id": "57da4118",
   "metadata": {},
   "outputs": [
    {
     "name": "stdout",
     "output_type": "stream",
     "text": [
      "True\n"
     ]
    }
   ],
   "source": [
    "## List comprehension: Remove elements of list that repeated \n",
    "# less than k times\n",
    "def removeElements(A, B):\n",
    "    n = len(A)\n",
    "    return any(A == B[i:i + n] for i in range(len(B)-n + 1))\n",
    "\n",
    "# Driver code\n",
    "A = [1, 2]\n",
    "B = [1, 2, 3, 1, 1, 2, 2]\n",
    "print(removeElements(A, B))"
   ]
  },
  {
   "cell_type": "code",
   "execution_count": null,
   "id": "cdbcd2af",
   "metadata": {},
   "outputs": [],
   "source": []
  },
  {
   "cell_type": "markdown",
   "id": "d035a4a7",
   "metadata": {},
   "source": [
    "--------"
   ]
  },
  {
   "cell_type": "markdown",
   "id": "d7e0ba6d",
   "metadata": {},
   "source": [
    "## 1.4) Get all subsets of given size of a set\n",
    "\n",
    "```\n",
    "Input : {1, 2, 3}, n = 2\n",
    "Output : [{1, 2}, {1, 3}, {2, 3}]\n",
    "\n",
    "Input : {1, 2, 3, 4}, n = 3\n",
    "Output : [{1, 2, 3}, {1, 2, 4}, {1, 3, 4}, {2, 3, 4}]\n",
    "```"
   ]
  },
  {
   "cell_type": "code",
   "execution_count": 13,
   "id": "088a4f8f",
   "metadata": {},
   "outputs": [],
   "source": [
    "import itertools\n",
    "from itertools import combinations, chain\n",
    "\n",
    "# find all subsets of given size of a set\n",
    "# mapping set to itertools.combinations() function\n",
    "def findsubsets(s, n):\n",
    "    return list(map(set, itertools.combinations(s, n)))"
   ]
  },
  {
   "cell_type": "code",
   "execution_count": 14,
   "id": "bf6f0074",
   "metadata": {},
   "outputs": [
    {
     "name": "stdout",
     "output_type": "stream",
     "text": [
      "[{1, 2}, {1, 3}, {2, 3}]\n"
     ]
    }
   ],
   "source": [
    "# Driver Code\n",
    "s1 = {1, 2, 3}\n",
    "n1 = 2\n",
    "\n",
    "# Output: [{1, 2}, {1, 3}, {2, 3}]\n",
    "print(findsubsets(s1, n1))"
   ]
  },
  {
   "cell_type": "code",
   "execution_count": 15,
   "id": "cfb7a290",
   "metadata": {},
   "outputs": [
    {
     "name": "stdout",
     "output_type": "stream",
     "text": [
      "[{1, 2, 3}, {1, 2, 4}, {1, 3, 4}, {2, 3, 4}]\n"
     ]
    }
   ],
   "source": [
    "# Driver Code\n",
    "s2 = {1, 2, 3, 4}\n",
    "n2 = 3\n",
    "\n",
    "# Output: [{1, 2, 3}, {1, 2, 4}, {1, 3, 4}, {2, 3, 4}]\n",
    "print(findsubsets(s2, n2))"
   ]
  },
  {
   "cell_type": "code",
   "execution_count": null,
   "id": "2e1d0f48",
   "metadata": {},
   "outputs": [],
   "source": []
  },
  {
   "cell_type": "markdown",
   "id": "66e94ce2",
   "metadata": {},
   "source": [
    "--------"
   ]
  },
  {
   "cell_type": "markdown",
   "id": "4d580211",
   "metadata": {},
   "source": [
    "## 1.5a) find duplicate elements in a list"
   ]
  },
  {
   "cell_type": "code",
   "execution_count": 16,
   "id": "1c54d4f4",
   "metadata": {},
   "outputs": [
    {
     "name": "stdout",
     "output_type": "stream",
     "text": [
      "[1, 2, 5, 9]\n"
     ]
    }
   ],
   "source": [
    "oldlist = [1,2,1,2,3,4,5,1,1,2,5,6,7,8,9,9]\n",
    "newlist = []\n",
    "\n",
    "# method 1 use count()\n",
    "for a in oldlist:\n",
    "    # checking the occurrence of elements\n",
    "    n = oldlist.count(a) \n",
    "     \n",
    "    # add element to newlist if occur more than once\n",
    "    if n > 1:\n",
    "        \n",
    "        if newlist.count(a) == 0:\n",
    "            newlist.append(a)\n",
    "\n",
    "print(newlist)"
   ]
  },
  {
   "cell_type": "code",
   "execution_count": 17,
   "id": "9178f83c",
   "metadata": {},
   "outputs": [
    {
     "name": "stdout",
     "output_type": "stream",
     "text": [
      "[1, 2, 5, 9]\n"
     ]
    }
   ],
   "source": [
    "# method 2 use Counter()\n",
    "from collections import Counter\n",
    "\n",
    "ddd = Counter(oldlist)\n",
    "newlist2 = list([item for item in ddd if ddd[item]>1])\n",
    "print(newlist2)"
   ]
  },
  {
   "cell_type": "code",
   "execution_count": null,
   "id": "18bc8ebe",
   "metadata": {},
   "outputs": [],
   "source": []
  },
  {
   "cell_type": "markdown",
   "id": "3b4ab78a",
   "metadata": {},
   "source": [
    "## 1.5b) Remove duplicate elements from a list"
   ]
  },
  {
   "cell_type": "code",
   "execution_count": 18,
   "id": "bbe942d4",
   "metadata": {},
   "outputs": [
    {
     "name": "stdout",
     "output_type": "stream",
     "text": [
      "[1, 2, 3, 4, 5, 6, 7, 8, 9]\n"
     ]
    }
   ],
   "source": [
    "oldlist3 = [1,2,1,2,3,4,5,1,1,2,5,6,7,8,9,9]\n",
    "\n",
    "# method 1 use list comprehension\n",
    "newlist3 = []\n",
    "[newlist3.append(x) for x in oldlist3 if x not in newlist3]\n",
    "\n",
    "print(newlist3)"
   ]
  },
  {
   "cell_type": "code",
   "execution_count": 19,
   "id": "0119340f",
   "metadata": {},
   "outputs": [
    {
     "name": "stdout",
     "output_type": "stream",
     "text": [
      "[1, 2, 3, 4, 5, 6, 7, 8, 9]\n"
     ]
    }
   ],
   "source": [
    "# method 2 use set()\n",
    "newlist4 = list(set(oldlist3))\n",
    "print(newlist4)"
   ]
  },
  {
   "cell_type": "code",
   "execution_count": null,
   "id": "99e6c48d",
   "metadata": {},
   "outputs": [],
   "source": []
  },
  {
   "cell_type": "markdown",
   "id": "2642802b",
   "metadata": {},
   "source": [
    "--------"
   ]
  },
  {
   "cell_type": "markdown",
   "id": "854598b6",
   "metadata": {},
   "source": [
    "## 1.6a) find common elements between 2 lists"
   ]
  },
  {
   "cell_type": "code",
   "execution_count": 20,
   "id": "bd2c2862",
   "metadata": {},
   "outputs": [
    {
     "name": "stdout",
     "output_type": "stream",
     "text": [
      "{5, 6, 7}\n"
     ]
    }
   ],
   "source": [
    "# use set() and intersection()\n",
    "def common(a, b):\n",
    "    \n",
    "    cset = set(a).intersection(set(b))\n",
    "    \n",
    "    # if there are common elements\n",
    "    if len(cset) > 0:\n",
    "        return(cset) \n",
    "    else:\n",
    "        return(\"No common elements\")\n",
    "\n",
    "lista = [1, 2, 3, 4, 5, 6, 7]\n",
    "listb = [5, 6, 7, 8, 9, 10, 11]\n",
    "print(common(lista, listb))"
   ]
  },
  {
   "cell_type": "code",
   "execution_count": 21,
   "id": "8cc9209f",
   "metadata": {},
   "outputs": [
    {
     "data": {
      "text/plain": [
       "'No common elements'"
      ]
     },
     "execution_count": 21,
     "metadata": {},
     "output_type": "execute_result"
    }
   ],
   "source": [
    "listc = [1, 2, 3, 4, 5]\n",
    "listd = [6, 7, 8, 9]\n",
    "common(listc, listd)"
   ]
  },
  {
   "cell_type": "code",
   "execution_count": null,
   "id": "9509a597",
   "metadata": {},
   "outputs": [],
   "source": []
  },
  {
   "cell_type": "markdown",
   "id": "21ae3e2a",
   "metadata": {},
   "source": [
    "## 1.6b) find uncommon elements between 2 lists"
   ]
  },
  {
   "cell_type": "code",
   "execution_count": 22,
   "id": "249e7527",
   "metadata": {},
   "outputs": [
    {
     "name": "stdout",
     "output_type": "stream",
     "text": [
      "{1, 2, 3, 4, 8, 9, 10, 11}\n"
     ]
    }
   ],
   "source": [
    "# use set() \n",
    "def uncommon(a, b):\n",
    "    aset = set(a)\n",
    "    bset = set(b)\n",
    "    \n",
    "    # if there are uncommon elements\n",
    "    if(aset ^ bset):\n",
    "        return(aset ^ bset)\n",
    "    else:\n",
    "        print('No Uncommon elements')\n",
    "\n",
    "lista = [1, 2, 3, 4, 5, 6, 7]\n",
    "listb = [5, 6, 7, 8, 9, 10, 11]\n",
    "print(uncommon(lista, listb))"
   ]
  },
  {
   "cell_type": "code",
   "execution_count": null,
   "id": "56bebfea",
   "metadata": {},
   "outputs": [],
   "source": []
  },
  {
   "cell_type": "markdown",
   "id": "79ec0258",
   "metadata": {},
   "source": [
    "## 1.6c) Finding repeated elements in array of integers\n",
    "Suppose you're given an array of integers. Write code to find the first repeating element in the array.\n",
    "\n",
    "```\n",
    "For example:\n",
    "\n",
    "Input: array = [10, 2, -2, -20, 10] \n",
    "Output: 10\n",
    "\n",
    "Input: array = [9, 4, 20, 20, 10, 5]\n",
    "Output: 20\n",
    "```\n",
    "\n",
    "If there are no duplicates, you can return -1.\n",
    "\n",
    "### Solution: Using sets\n",
    "A Set is an unordered collection data type that is iterable, mutable, and has no duplicate elements. A set is a highly optimized method for checking whether a specific element is contained in the set, so works well for our specific purpose."
   ]
  },
  {
   "cell_type": "code",
   "execution_count": 59,
   "id": "85eb6cc2",
   "metadata": {},
   "outputs": [],
   "source": [
    "def firstDuplicateSet(a):\n",
    "    \n",
    "    # initialize set\n",
    "    seen = set()\n",
    "    for i in a:\n",
    "        \n",
    "        # if element exists in set, return it\n",
    "        if i in seen:\n",
    "            return i\n",
    "        \n",
    "        # otherwise add to set\n",
    "        seen.add(i)\n",
    "    \n",
    "    # otherwise exit loop\n",
    "    return -1"
   ]
  },
  {
   "cell_type": "code",
   "execution_count": 60,
   "id": "01434cb5",
   "metadata": {},
   "outputs": [
    {
     "data": {
      "text/plain": [
       "20"
      ]
     },
     "execution_count": 60,
     "metadata": {},
     "output_type": "execute_result"
    }
   ],
   "source": [
    "# driver code\n",
    "a = [9, 4, 20, 20, 10, 5, 15, 12, 7, 8, 12]\n",
    "# first duplicate = 20\n",
    "firstDuplicateSet(a)"
   ]
  },
  {
   "cell_type": "code",
   "execution_count": null,
   "id": "49106a94",
   "metadata": {},
   "outputs": [],
   "source": []
  },
  {
   "cell_type": "markdown",
   "id": "2b7c59da",
   "metadata": {},
   "source": [
    "--------"
   ]
  },
  {
   "cell_type": "markdown",
   "id": "16b51134",
   "metadata": {},
   "source": [
    "## 1.7a) Break down integer into prime factors\n",
    "https://www.pythonpool.com/prime-factorization-python/\n",
    "\n",
    "```\n",
    "20 -> 2*2*5\n",
    "```"
   ]
  },
  {
   "cell_type": "code",
   "execution_count": 23,
   "id": "8cca1038",
   "metadata": {},
   "outputs": [],
   "source": [
    "import math\n",
    "\n",
    "def primefactors(n):\n",
    "    # even number divisible\n",
    "    while n % 2 == 0:\n",
    "        print(2)\n",
    "        n = n / 2\n",
    "   \n",
    "    # n became odd\n",
    "    for i in range(3,int(math.sqrt(n))+1,2):\n",
    "        while (n % i == 0):\n",
    "            print(i)\n",
    "            n = n / i\n",
    "\n",
    "    if n > 2:\n",
    "        print(int(n))"
   ]
  },
  {
   "cell_type": "code",
   "execution_count": 24,
   "id": "4d9f152b",
   "metadata": {},
   "outputs": [
    {
     "name": "stdout",
     "output_type": "stream",
     "text": [
      "2\n",
      "2\n",
      "5\n"
     ]
    }
   ],
   "source": [
    "primefactors(20)"
   ]
  },
  {
   "cell_type": "code",
   "execution_count": null,
   "id": "d8a382e6",
   "metadata": {},
   "outputs": [],
   "source": []
  },
  {
   "cell_type": "markdown",
   "id": "b75f3746",
   "metadata": {},
   "source": [
    "## 1.7b) Identifying prime numbers with Python\n",
    "A prime number (or a prime) is a natural number greater than 1 that cannot be formed by multiplying two smaller natural numbers. Given a single number, n, write a function using Python to return whether or not the # is prime. Additionally, if the inputted # is prime, save it into an array, a.\n",
    "\n",
    "### Solutions\n",
    "We'll set up a function below to determine whether or not a given number is prime, using simple if/else statements. Additionally, when a number is defined as prime we'll append it to our array, a."
   ]
  },
  {
   "cell_type": "code",
   "execution_count": 25,
   "id": "124d2a71",
   "metadata": {},
   "outputs": [],
   "source": [
    "# Empty array to store prime numbers\n",
    "a = []\n",
    "\n",
    "def is_prime(x):\n",
    "    if x < 2:\n",
    "        # if the number is < 2, it's not a prime number  \n",
    "        return False\n",
    "    \n",
    "    else:\n",
    "        # for all other numbers >=2\n",
    "        for n in range(2,x):\n",
    "            \n",
    "            # if divisible by two smaller numbers, \n",
    "            # then it is not prime\n",
    "            if x % n == 0:\n",
    "                return False\n",
    "        \n",
    "        # numbers that don't meet the above conditions are prime\n",
    "        # save them to our array a\n",
    "        a.append(x)\n",
    "        return True"
   ]
  },
  {
   "cell_type": "code",
   "execution_count": 28,
   "id": "17fde337",
   "metadata": {},
   "outputs": [
    {
     "data": {
      "text/plain": [
       "False"
      ]
     },
     "execution_count": 28,
     "metadata": {},
     "output_type": "execute_result"
    }
   ],
   "source": [
    "x1 = 11231\n",
    "is_prime(x1)"
   ]
  },
  {
   "cell_type": "code",
   "execution_count": 27,
   "id": "5305bbdc",
   "metadata": {},
   "outputs": [
    {
     "data": {
      "text/plain": [
       "False"
      ]
     },
     "execution_count": 27,
     "metadata": {},
     "output_type": "execute_result"
    }
   ],
   "source": [
    "x2 = 100\n",
    "is_prime(x2)"
   ]
  },
  {
   "cell_type": "code",
   "execution_count": null,
   "id": "24bf86fd",
   "metadata": {},
   "outputs": [],
   "source": []
  },
  {
   "cell_type": "markdown",
   "id": "385da426",
   "metadata": {},
   "source": [
    "--------"
   ]
  },
  {
   "cell_type": "markdown",
   "id": "c15a61a5",
   "metadata": {},
   "source": [
    "## 1.8) Calculating a moving average using Python\n",
    "You are given a list of numbers J and a single number p. Write a function to return the min and max averages of the sequences of p numbers in the list J. For example:\n",
    "```\n",
    "# Array of numbers\n",
    "J = [4, 4, 4, 9, 10, 11, 12]\n",
    "\n",
    "# Length of sequences, p\n",
    "p = 3\n",
    "\n",
    "Here, the sequences will be:\n",
    "    (4,4,4)\n",
    "    (4,4,9)\n",
    "    (4,9,10)\n",
    "    (9,10,11)\n",
    "    (10,11,12)\n",
    "```\n",
    "From the above we can see that the minimum average will be 4 and the maximum average will be 11, which corresponds to the first and last sequences."
   ]
  },
  {
   "cell_type": "markdown",
   "id": "dc01c9f7",
   "metadata": {},
   "source": [
    "### Solution:\n",
    "- We'll first check to ensure that array J is long enough to have a sequence length of p. \n",
    "- Then, we will get the first sequence's sum that will be used as a baseline for the rest of the comparisons. \n",
    "- After establishing a baseline, we'll go through J to get other sequences' sums and compare against our baseline. \n",
    "- Finally, after establishing a high and a low, we'll return the average maximum and average minimum by computing high/p and low/p."
   ]
  },
  {
   "cell_type": "code",
   "execution_count": 29,
   "id": "524e8ad2",
   "metadata": {},
   "outputs": [],
   "source": [
    "def averageSeq(J,p):\n",
    "    # check we have enough values in J to create sequences of p length \n",
    "    if len(J) < p: \n",
    "        return (None, None)\n",
    "    current = 0\n",
    "\n",
    "    # check the the first sequence in J to create sequences \n",
    "    # that are p length \n",
    "    for i in range(p):\n",
    "        current += J[i]\n",
    "\n",
    "    # then create 2 new variables high and low, to keep track of \n",
    "    # the highest and lowest value as we traverse through J\n",
    "    low = high = current\n",
    "    \n",
    "    # iterate through each value after the first sequence\n",
    "    for i in range(p, len(J)):\n",
    "        # recalculate by adding J[i] (the current value we're at) \n",
    "        # and subtracting the value that's 1 position outside of \n",
    "        # the current sequence\n",
    "        current = current - J[i-p] + J[i]\n",
    "        \n",
    "        # then compare the current value against lowest and highest values\n",
    "        low = min(low, current)\n",
    "        high = max(high,current)\n",
    "    \n",
    "    # return the average by taking low and high and dividing by p\n",
    "    return (low/p, high/p)"
   ]
  },
  {
   "cell_type": "code",
   "execution_count": 30,
   "id": "763eaa56",
   "metadata": {},
   "outputs": [
    {
     "data": {
      "text/plain": [
       "(4.0, 11.0)"
      ]
     },
     "execution_count": 30,
     "metadata": {},
     "output_type": "execute_result"
    }
   ],
   "source": [
    "# driver code\n",
    "J = [4, 4, 4, 9, 10, 11, 12]\n",
    "p = 3\n",
    "\n",
    "# output: (4.0, 11.0)\n",
    "averageSeq(J, p)"
   ]
  },
  {
   "cell_type": "code",
   "execution_count": null,
   "id": "cfb8f10a",
   "metadata": {},
   "outputs": [],
   "source": []
  },
  {
   "cell_type": "markdown",
   "id": "de1c604f",
   "metadata": {},
   "source": [
    "--------"
   ]
  },
  {
   "cell_type": "markdown",
   "id": "bf0086c9",
   "metadata": {},
   "source": [
    "## 1.9a) Checking whether elements in array can be made equal through multiplication\n",
    "\n",
    "Given an array a, write a function to feed in the array elements and check whether they can all be made equal by only multiplying the numbers by 2 or 7. (you can multiply by these numbers as many times as you like). If all elements can be made equal, return False, otherwise return True.\n",
    "\n",
    "```\n",
    "Example:\n",
    "# Input\n",
    "a = [128, 4, 2]\n",
    "\n",
    "# Here, we can turn all elements into 128, by multiplying by 2\n",
    "# eg. 2*2*2*2*2*2*2 = 128\n",
    "# Output:\n",
    "True\n",
    "```"
   ]
  },
  {
   "cell_type": "code",
   "execution_count": 32,
   "id": "fffeb3fa",
   "metadata": {},
   "outputs": [],
   "source": [
    "def isEqual(a, n):  \n",
    "    \n",
    "    # Loop through each element in array\n",
    "    for i in range(0, n):  \n",
    "        \n",
    "        # If divisible by 2, then divide until we can't divide by 2 anymore \n",
    "        while a[i] % 2 == 0:\n",
    "            a[i] //= 2\n",
    "\n",
    "        # If divisible by 7, then divide until we can't divide by 7 anymore \n",
    "        while a[i] % 7 == 0:\n",
    "            a[i] //= 7\n",
    "        \n",
    "        # If any element is not equal to the first element then return false\n",
    "        if a[i] != a[0]:  \n",
    "            return False\n",
    "\n",
    "    # Otherwise, return true if all elements are equal    \n",
    "    return True"
   ]
  },
  {
   "cell_type": "code",
   "execution_count": 33,
   "id": "b8b9a93d",
   "metadata": {},
   "outputs": [
    {
     "data": {
      "text/plain": [
       "True"
      ]
     },
     "execution_count": 33,
     "metadata": {},
     "output_type": "execute_result"
    }
   ],
   "source": [
    "# 128, 14 and 2 are all divisible by 2 or 7\n",
    "a = [128, 14, 2]\n",
    "n1 = len(a)  \n",
    "\n",
    "# output: True\n",
    "isEqual(a, n1)"
   ]
  },
  {
   "cell_type": "code",
   "execution_count": 34,
   "id": "3ab35481",
   "metadata": {},
   "outputs": [
    {
     "data": {
      "text/plain": [
       "False"
      ]
     },
     "execution_count": 34,
     "metadata": {},
     "output_type": "execute_result"
    }
   ],
   "source": [
    "# 15 is not divisible by 2 or 7 \n",
    "b = [128, 15, 2]\n",
    "n2 = len(b)  \n",
    "\n",
    "# output: True\n",
    "isEqual(b, n2)"
   ]
  },
  {
   "cell_type": "code",
   "execution_count": null,
   "id": "143d7798",
   "metadata": {},
   "outputs": [],
   "source": []
  },
  {
   "cell_type": "markdown",
   "id": "873ad971",
   "metadata": {},
   "source": [
    "## 1.9b) Multiply array values, return the remainder\n",
    "Suppose you're given an array of varying length containing multiple numbers, and a number x. Using these inputs, write a short program in Python find the remainder of the array multiplication divided by x. For example:\n",
    "\n",
    "```\n",
    "# Given the following\n",
    "array = [5, 2, 4, 1, 5]\n",
    "x = 6\n",
    "\n",
    "# We would calculate output as such:\n",
    "5*2*4*1*5 = 200 % 6 = 2\n",
    "'''\n",
    "```\n",
    "\n",
    "If we want to be more efficient, we can use the distributive properties of modular arithmetic:\n",
    "```\n",
    "(a * b) % c = ((a % c) * (b % c)) % c\n",
    "```"
   ]
  },
  {
   "cell_type": "code",
   "execution_count": 35,
   "id": "b160c88a",
   "metadata": {},
   "outputs": [],
   "source": [
    "def findreminder(array, length, x): \n",
    "    \n",
    "    # Define variable mul to store output at each step of process\n",
    "    mul = 1\n",
    "    \n",
    "    # Find individual remainder, multiply with mul \n",
    "    for i in range(length):  \n",
    "        # e.g. (1 * 5 % 11 ) % 11\n",
    "        # (mul * (2 % 11)) % 11 etc\n",
    "        mul = (mul * (array[i] % x)) % x \n",
    "        \n",
    "    return mul % x"
   ]
  },
  {
   "cell_type": "code",
   "execution_count": 36,
   "id": "64056379",
   "metadata": {},
   "outputs": [
    {
     "name": "stdout",
     "output_type": "stream",
     "text": [
      "2\n"
     ]
    }
   ],
   "source": [
    "# Driver code \n",
    "array = [5,2,4,1,5]\n",
    "length = len(array) \n",
    "x = 11\n",
    "\n",
    "# 200 % 11 = 2\n",
    "print(findreminder(array, length, x)) "
   ]
  },
  {
   "cell_type": "code",
   "execution_count": null,
   "id": "a3d109c7",
   "metadata": {},
   "outputs": [],
   "source": []
  },
  {
   "cell_type": "markdown",
   "id": "7bb50801",
   "metadata": {},
   "source": [
    "## 1.9c) Finding greatest product pairs\n",
    "Suppose you're given an array of n elements. Within this array, return the greatest value of a single element that is the product of two elements contained within the same array. If no such product exists, print N/A. Lastly, you can assume that the values within the array are positive integers.\n",
    "\n",
    "```\n",
    "For example:\n",
    "\n",
    "Input: array = [2, 2, 4, 5, 9] \n",
    "Output: 4 (since 2 * 2 = 4)\n",
    "\n",
    "Input: array = [1, 3, 4, 7, 10] \n",
    "Output: 10 (since 1 * 10 = 10)\n",
    "\n",
    "Input: array = [3, 3, 4, 7, 10] \n",
    "Output: N/A\n",
    "```"
   ]
  },
  {
   "cell_type": "code",
   "execution_count": 90,
   "id": "73b6cbd0",
   "metadata": {},
   "outputs": [],
   "source": [
    "def greatestProduct(arr , n): \n",
    "    \n",
    "    result = -1\n",
    "    \n",
    "    # loop through full array\n",
    "    for i in range(n): \n",
    "        \n",
    "        # multiply every combination of elements together\n",
    "        for j in range(n-1): \n",
    "            for k in range(j+1, n): \n",
    "                \n",
    "                # compare output to each element within array (through our top-level loop)\n",
    "                if (arr[j] * arr[k] == arr[i]): \n",
    "                    \n",
    "                    #take the make product, -1 if no product exists\n",
    "                    result = max(result, arr[i]) \n",
    "    \n",
    "    # if -1, flip to string \"N/A\" per instructions\n",
    "    if result == -1:\n",
    "        output = \"N/A\"\n",
    "    else:\n",
    "        output = result\n",
    "    return output"
   ]
  },
  {
   "cell_type": "code",
   "execution_count": 91,
   "id": "9c6d1753",
   "metadata": {},
   "outputs": [
    {
     "name": "stdout",
     "output_type": "stream",
     "text": [
      "4\n"
     ]
    }
   ],
   "source": [
    "# Driver code     \n",
    "arr =  [2, 2, 4, 5, 9]\n",
    "n = len(arr)\n",
    "\n",
    "# Output: 4\n",
    "print(greatestProduct(arr, n)) "
   ]
  },
  {
   "cell_type": "code",
   "execution_count": 92,
   "id": "09332784",
   "metadata": {},
   "outputs": [
    {
     "name": "stdout",
     "output_type": "stream",
     "text": [
      "10\n"
     ]
    }
   ],
   "source": [
    "# Driver code\n",
    "arr = [1, 3, 4, 7, 10] \n",
    "n = len(arr)\n",
    "\n",
    "# Output: 10\n",
    "print(greatestProduct(arr, n))"
   ]
  },
  {
   "cell_type": "code",
   "execution_count": null,
   "id": "55ad128a",
   "metadata": {},
   "outputs": [],
   "source": []
  },
  {
   "cell_type": "markdown",
   "id": "5a52e142",
   "metadata": {},
   "source": [
    "--------"
   ]
  },
  {
   "cell_type": "markdown",
   "id": "ade6c6eb",
   "metadata": {},
   "source": [
    "## 1.10) Monotonic array\n",
    "Can you check if a given array containing n integers is monotonic? Your function should return \"true\" if it is monotonic and \"false\" if it's not. An array is monotonic if it is either monotone increasing or monotone decreasing. An array A is monotone increasing if for all `i <= j`, `A[i] <= A[j]`. An array A is monotone decreasing if for all `i <= j`, `A[i] >= A[j]`.\n",
    "\n",
    "```\n",
    "For example:\n",
    "\n",
    "Input : [6, 5, 4, 4]\n",
    "Output : true\n",
    "\n",
    "Input : [5, 5, 5, 4]\n",
    "Output : true\n",
    "\n",
    "Input : [5, 15, 20, 10]\n",
    "Output : false\n",
    "```"
   ]
  },
  {
   "cell_type": "code",
   "execution_count": 37,
   "id": "c20aabf9",
   "metadata": {},
   "outputs": [],
   "source": [
    "def isArrayMonotonic(array):\n",
    "    # use Python all() function to check if array has all increasing \n",
    "    # or decreasing elements\n",
    "    return (all(array[i] <= array[i+1] for i in range(len(array)-1)) or\n",
    "            all(array[i] >= array[i+1] for i in range(len(array)-1))\n",
    "           )"
   ]
  },
  {
   "cell_type": "code",
   "execution_count": 38,
   "id": "f1c11a93",
   "metadata": {},
   "outputs": [
    {
     "name": "stdout",
     "output_type": "stream",
     "text": [
      "True\n"
     ]
    }
   ],
   "source": [
    "# Driver program \n",
    "A = [6, 5, 4, 4] \n",
    "\n",
    "# Output: True\n",
    "print(isArrayMonotonic(A))"
   ]
  },
  {
   "cell_type": "code",
   "execution_count": 39,
   "id": "e96bd169",
   "metadata": {},
   "outputs": [
    {
     "name": "stdout",
     "output_type": "stream",
     "text": [
      "False\n"
     ]
    }
   ],
   "source": [
    "# Driver program \n",
    "B = [5, 15, 20, 10]\n",
    "\n",
    "# Output: False \n",
    "print(isArrayMonotonic(B))"
   ]
  },
  {
   "cell_type": "code",
   "execution_count": null,
   "id": "207c1e89",
   "metadata": {},
   "outputs": [],
   "source": []
  },
  {
   "cell_type": "markdown",
   "id": "fd1b81ca",
   "metadata": {},
   "source": [
    "--------"
   ]
  },
  {
   "cell_type": "markdown",
   "id": "c36d1f24",
   "metadata": {},
   "source": [
    "## 1.11) Finding the value closest to j\n",
    "\n",
    "Suppose you are given a list of Q 1D points. Write code to return the value in Q that is the closest to value j. If two values are equally close to j, return the smaller value.\n",
    "\n",
    "```\n",
    "Example:\n",
    "Q = [1, -1, -5, 2, 4, -2, 1]\n",
    "j = 3\n",
    "\n",
    "# Output: \n",
    "2\n",
    "```"
   ]
  },
  {
   "cell_type": "code",
   "execution_count": 40,
   "id": "1271e8a4",
   "metadata": {},
   "outputs": [],
   "source": [
    "def find_nearest(Q, j):\n",
    "    # ensure we have numpy array format\n",
    "    array = np.asarray(Q)\n",
    "    \n",
    "    # takes the absolute value of array Q - j\n",
    "    # eg. [1, -1, -5, 2, 4, -2, 1] - 3 -> [2, 4, 8, 1, 1, 5, 2]\n",
    "    # argmin() then takes the minimum value's index \n",
    "    # within the newly calculated array\n",
    "    idx = (np.abs(array - j)).argmin()\n",
    "    \n",
    "    # returns the index of the array's minimum value\n",
    "    return array[idx]"
   ]
  },
  {
   "cell_type": "code",
   "execution_count": 41,
   "id": "6ed88a10",
   "metadata": {},
   "outputs": [
    {
     "data": {
      "text/plain": [
       "2"
      ]
     },
     "execution_count": 41,
     "metadata": {},
     "output_type": "execute_result"
    }
   ],
   "source": [
    "# driver code\n",
    "Q = [1, -1, -5, 2, 4, -2, 1]\n",
    "j = 3\n",
    "\n",
    "# output: 2\n",
    "find_nearest(Q,j)"
   ]
  },
  {
   "cell_type": "code",
   "execution_count": null,
   "id": "86c3ed64",
   "metadata": {},
   "outputs": [],
   "source": []
  },
  {
   "cell_type": "markdown",
   "id": "3f812030",
   "metadata": {},
   "source": [
    "--------"
   ]
  },
  {
   "cell_type": "markdown",
   "id": "97b0248d",
   "metadata": {},
   "source": [
    "## 1.12) Points within an interval\n",
    "You are given P which is list of j integer intervals, where j is the number of intervals. The intervals are in a format [a, b]. Given an interger z, can you return the number of overlapping intervals for point z?\n",
    "\n",
    "```\n",
    "Input:\n",
    "P =  [[0, 2], [3, 7], [4, 6], [7, 8], [1 ,5]]\n",
    "z = 5\n",
    "\n",
    "# At z = 5, there are 3 intervals that overlap. \n",
    "# The intervals are: [3, 7], [4, 6], [1, 5]\n",
    "# Output: \n",
    "3\n",
    "```"
   ]
  },
  {
   "cell_type": "code",
   "execution_count": 42,
   "id": "c272b7cb",
   "metadata": {},
   "outputs": [],
   "source": [
    "def overlappingIntervals(P, z) : \n",
    "    \n",
    "    # Set the length of the array\n",
    "    j = len(P) \n",
    "    # Set a counter for the number of overlaps\n",
    "    count = 0\n",
    "  \n",
    "    # Loop to go through set of intervals\n",
    "    for i in range(j): \n",
    "              \n",
    "        # Variables to store start and end of an interval \n",
    "        left_point = P[i][0] \n",
    "        right_point = P[i][1]\n",
    "        \n",
    "        # Check if point z falls between the left or right value of the interval.\n",
    "        # We increase the count if it meets the critera.\n",
    "        if (z >= left_point and z <= right_point) : \n",
    "            count += 1\n",
    "          \n",
    "    return count; "
   ]
  },
  {
   "cell_type": "code",
   "execution_count": 43,
   "id": "a3832740",
   "metadata": {},
   "outputs": [
    {
     "name": "stdout",
     "output_type": "stream",
     "text": [
      "3\n"
     ]
    }
   ],
   "source": [
    "# Test code 1\n",
    "P1 = [[0, 2], [3, 7], [4, 6], [7, 8], [1 ,5]]\n",
    "z1 = 5\n",
    "# output: 3\n",
    "print((overlappingIntervals(P1, z1))) "
   ]
  },
  {
   "cell_type": "code",
   "execution_count": 44,
   "id": "07d25805",
   "metadata": {},
   "outputs": [
    {
     "name": "stdout",
     "output_type": "stream",
     "text": [
      "3\n"
     ]
    }
   ],
   "source": [
    "# Test code 2\n",
    "P2 = [[1, 10], [5, 10],  [15, 25], [7, 12],  [20, 25]] \n",
    "z2 = 7\n",
    "# output: 3\n",
    "print((overlappingIntervals(P2, z2))) "
   ]
  },
  {
   "cell_type": "code",
   "execution_count": null,
   "id": "4a548158",
   "metadata": {},
   "outputs": [],
   "source": []
  },
  {
   "cell_type": "markdown",
   "id": "cb329f66",
   "metadata": {},
   "source": [
    "--------"
   ]
  },
  {
   "cell_type": "markdown",
   "id": "7a24d515",
   "metadata": {},
   "source": [
    "## 1.13) Length of largest contiguous array\n",
    "Given an array of distinct integers, write code to find length of the longest subarray which contains numbers that can be arranged in a continuous sequence.\n",
    "\n",
    "```\n",
    "For example:\n",
    "Input:  arr[] = {10, 12, 11};\n",
    "# (10,11,12) = length 3\n",
    "Output: 3\n",
    "\n",
    "Input:  arr[] = {1, 10, 23, 11, 13, 14, 15, 12, 98}\n",
    "# (11,12,13,14,15) = length 5\n",
    "Output: 5\n",
    "```"
   ]
  },
  {
   "cell_type": "code",
   "execution_count": 45,
   "id": "e3d49b79",
   "metadata": {},
   "outputs": [],
   "source": [
    "# functions to find the max or min of two elements\n",
    "def minZ(x, y):\n",
    "    return x if(x < y) else y \n",
    "\n",
    "def maxZ(x, y):\n",
    "    return x if(x > y) else y \n",
    "\n",
    "def findLongestSubarray(array, n): \n",
    "    # set variable track the longest subarray length\n",
    "    max_length = 1 \n",
    "    \n",
    "    # looping through the array\n",
    "    for i in range(n-1): \n",
    "        # setting the min and max starting with i\n",
    "        mn = array[i] \n",
    "        mx = array[i] \n",
    "        \n",
    "        # looping through all sub arrays starting with i and ending with j\n",
    "        # j here is offset of i+1\n",
    "        for j in range(i+1, n): \n",
    "            \n",
    "            # checking min and max, and updating variable\n",
    "            mn = minZ(mn, array[j]) \n",
    "            mx = maxZ(mx, array[j]) \n",
    "            \n",
    "            # we update the current max length if current subarray has \n",
    "            # all contiguous elements\n",
    "            if ((mx - mn) == j - i):\n",
    "                max_length = max(max_length, mx - mn + 1) \n",
    "                \n",
    "    return max_length"
   ]
  },
  {
   "cell_type": "code",
   "execution_count": 46,
   "id": "d702efe7",
   "metadata": {},
   "outputs": [
    {
     "name": "stdout",
     "output_type": "stream",
     "text": [
      "5\n"
     ]
    }
   ],
   "source": [
    "ay = [1, 10, 23, 11, 13, 14, 15, 12, 98] \n",
    "n = len(ay)\n",
    "# output: 5\n",
    "print(findLongestSubarray(ay, n)) "
   ]
  },
  {
   "cell_type": "code",
   "execution_count": null,
   "id": "65649805",
   "metadata": {},
   "outputs": [],
   "source": []
  },
  {
   "cell_type": "markdown",
   "id": "6fc65850",
   "metadata": {},
   "source": [
    "--------"
   ]
  },
  {
   "cell_type": "markdown",
   "id": "afbee671",
   "metadata": {},
   "source": [
    "## 1.14) Maximum of subarrays\n",
    "Given an array and an integer A, find the maximum for each contiguous subarray of size A.\n",
    "\n",
    "```\n",
    "Input: \n",
    "array = [1, 2, 3, 1, 4, 5, 2, 3, 6] \n",
    "A = 3\n",
    "\n",
    "Subarrays of length 3: [1,2,3], [2,3,1], [3,1,4], [1,4,5], [4,5,2], [5,2,3], [2,3,6]\n",
    "\n",
    "Output: \n",
    "3 3 4 5 5 5 6\n",
    "```\n",
    "\n",
    "### Solution:\n",
    "- We can select a subset of an array by specifying the start and end of the subset we want to look at. \n",
    "- We create a variable for the start and end of the set we want to look at. \n",
    "- We then iterate over the entire array while the end variable is less than or equal to the length of the array. \n",
    "- We can use a simple `max()` function to get the maximum of the output."
   ]
  },
  {
   "cell_type": "code",
   "execution_count": 47,
   "id": "95bccc37",
   "metadata": {},
   "outputs": [],
   "source": [
    "def printMaxofArray(array, A): \n",
    "    # create output string\n",
    "    output = \"\"\n",
    "    #set the start variable\n",
    "    start = 0 \n",
    "    #set the end variable\n",
    "    end = A\n",
    "    \n",
    "    # create a loop to look at all subsets within the main array\n",
    "    while end <= len(array):\n",
    "        # append the maximum of our subarray to the output string\n",
    "        output += str(max(array[start:end])) + ' '\n",
    "        \n",
    "        # increasing the value of start and end by 1 so we look at the \n",
    "        # next contiguous array\n",
    "        start += 1\n",
    "        end += 1\n",
    "\n",
    "    # after we go through the loop we need to print the ouput\n",
    "    print(output)"
   ]
  },
  {
   "cell_type": "code",
   "execution_count": 48,
   "id": "652ba9a3",
   "metadata": {},
   "outputs": [
    {
     "name": "stdout",
     "output_type": "stream",
     "text": [
      "3 3 4 5 5 5 6 \n"
     ]
    }
   ],
   "source": [
    "# driver code\n",
    "array = [1, 2, 3, 1, 4, 5, 2, 3, 6]\n",
    "A = 3\n",
    "\n",
    "# output: 3 3 4 5 5 5 6 \n",
    "printMaxofArray(array, A) "
   ]
  },
  {
   "cell_type": "code",
   "execution_count": null,
   "id": "b98c097b",
   "metadata": {},
   "outputs": [],
   "source": []
  },
  {
   "cell_type": "markdown",
   "id": "5b88eef6",
   "metadata": {},
   "source": [
    "--------"
   ]
  },
  {
   "cell_type": "markdown",
   "id": "7da5119e",
   "metadata": {},
   "source": [
    "## 1.15a) Smallest subarray with a sum greater than X\n",
    "Given an array of integers and a number `X`, can you find the smallest subarray with sum greater than the given value? If there isn't a possible subarray, print `\"Not possible\"`.\n",
    "\n",
    "```\n",
    "For example:\n",
    "arr[] = [1, 4, 45, 6, 0, 19]\n",
    "x  =  51\n",
    "\n",
    "# the array is [4, 45, 6]\n",
    "Output: 3\n",
    "\n",
    "arr[] = [1, 10, 5, 2, 7]\n",
    "x  = 9\n",
    "\n",
    "# the array is [10]\n",
    "Output: 1\n",
    "```\n",
    "\n",
    "### Solution:\n",
    "Returns length of smallest subarray with a sum greater than x. If there is no subarray with given sum, then the function returns the array's length +1."
   ]
  },
  {
   "cell_type": "code",
   "execution_count": 49,
   "id": "259f6a65",
   "metadata": {},
   "outputs": [],
   "source": [
    "def lengthSmallestSubWithSum(array, n, x): \n",
    "    \n",
    "    # Initilize length of smallest subarray as n+1 \n",
    "    min_len = n+1\n",
    "    \n",
    "    # iterate through the array\n",
    "    for i in range(0, n): \n",
    "        # Initialize sum starting with current array element at i \n",
    "        curr_sum = array[i] \n",
    "        \n",
    "        # If our element at i is > x then exit and return 1 (length of shortest\n",
    "        # array is 1 element long)\n",
    "        if (curr_sum > x):\n",
    "            return 1\n",
    "        \n",
    "        # if the above condition isn't true, then iterate and add the rest of\n",
    "        # the elements in the array (starting with the next element next to x)\n",
    "        for j in range(i+1,n): \n",
    "            \n",
    "            # adding next element to current sum\n",
    "            curr_sum += array[j] \n",
    "            \n",
    "            # If sum becomes more than x and length of the subarray is smaller  \n",
    "            # than current smallest length, update the smallest length (or result) \n",
    "            if curr_sum > x and (j - i + 1) < min_len:\n",
    "                min_len = (j - i + 1) \n",
    "    \n",
    "    if min_len == n+1:\n",
    "        print(\"Not possible\")\n",
    "    else:\n",
    "        print(str(min_len))"
   ]
  },
  {
   "cell_type": "code",
   "execution_count": 50,
   "id": "123a8433",
   "metadata": {},
   "outputs": [
    {
     "name": "stdout",
     "output_type": "stream",
     "text": [
      "3\n"
     ]
    }
   ],
   "source": [
    "# Driver code\n",
    "arr1 = [1, 4, 45, 6, 10, 19] \n",
    "x1 = 51\n",
    "n1 = len(arr1) \n",
    "\n",
    "# output: 3\n",
    "lengthSmallestSubWithSum(arr1, n1, x1); "
   ]
  },
  {
   "cell_type": "code",
   "execution_count": 51,
   "id": "56624ac8",
   "metadata": {},
   "outputs": [
    {
     "name": "stdout",
     "output_type": "stream",
     "text": [
      "Not possible\n"
     ]
    }
   ],
   "source": [
    "# Driver code 2\n",
    "arr2 = [1, 4, 45, 6, 10, 19] \n",
    "x2 = 86\n",
    "n2 = len(arr2) \n",
    "\n",
    "# output: Not possible\n",
    "lengthSmallestSubWithSum(arr2, n2, x2); "
   ]
  },
  {
   "cell_type": "code",
   "execution_count": null,
   "id": "d8163017",
   "metadata": {},
   "outputs": [],
   "source": []
  },
  {
   "cell_type": "markdown",
   "id": "6dc0b15e",
   "metadata": {},
   "source": [
    "## 1.15b) Subarrays having a sum of p\n",
    "Suppose you have an unsorted array of integers. Can you find the number of subarrays that have a sum exactly to the given number p?\n",
    "\n",
    "```\n",
    "Input: \n",
    "array = [10, 2, -2, -20, 10]\n",
    "k = -10\n",
    "\n",
    "Output : 3\n",
    "# The following subarrays [10, 2, -2, -20], [2, -2, -20, 10], [-20, 10]\n",
    "have a sum exactly equal to -10\n",
    "\n",
    "Input: \n",
    "array = [9, 4, 20, 3, 10, 5]\n",
    "k = 33\n",
    "\n",
    "Output : 2\n",
    "# The following subarrays [9, 4, 20], [20, 3, 10] have a sum exactly equal to 33\n",
    "```"
   ]
  },
  {
   "cell_type": "code",
   "execution_count": 54,
   "id": "502ce91b",
   "metadata": {},
   "outputs": [],
   "source": [
    "from collections import defaultdict\n",
    "\n",
    "# A function to find number of subarrays with a sum exactly equal to p \n",
    "# (which is \"total\" here).  \n",
    "def subarraySum(array, total):\n",
    "    \n",
    "    # Get the length of the array\n",
    "    n = len(array)\n",
    "    \n",
    "    # Initializing a dictionary to store the number of subarrays starting from 0\n",
    "    # that have a value of the \"total\".\n",
    "    prevsum = defaultdict(lambda : 0)\n",
    "    \n",
    "    # Setting a counter to keep track of the number of\n",
    "    res = 0\n",
    "    \n",
    "    # Sum of elements so far\n",
    "    currsum = 0\n",
    "    \n",
    "    for i in range(0, n):\n",
    "        # Add current element to sum so far\n",
    "        currsum += array[i]\n",
    "        \n",
    "        # If currsum = total, then a new subarray is found! \n",
    "        # We will have the count of the subarrays\n",
    "        if currsum == total:\n",
    "            res += 1\n",
    "            \n",
    "        # currsum exceeds given sum by (currsum - total), we then find number of \n",
    "        # subarrays having this total and exclude those subarrays from currsum\n",
    "        # by increasing count by same amount.  \n",
    "        if (currsum - total) in prevsum: \n",
    "            res += prevsum[currsum - total]  \n",
    "            \n",
    "        # Add currsum value to count of different values of total.  \n",
    "        prevsum[currsum] += 1\n",
    "        \n",
    "    return res"
   ]
  },
  {
   "cell_type": "code",
   "execution_count": 55,
   "id": "bcd9f003",
   "metadata": {},
   "outputs": [
    {
     "name": "stdout",
     "output_type": "stream",
     "text": [
      "3\n"
     ]
    }
   ],
   "source": [
    "# Driver code\n",
    "array = [10, 2, -2, -20, 10]\n",
    "total = -10\n",
    "\n",
    "# Output: 3 \n",
    "print(subarraySum(array, total)) "
   ]
  },
  {
   "cell_type": "code",
   "execution_count": 56,
   "id": "7151bc48",
   "metadata": {},
   "outputs": [
    {
     "name": "stdout",
     "output_type": "stream",
     "text": [
      "2\n"
     ]
    }
   ],
   "source": [
    "# Driver code\n",
    "array = [9, 4, 20, 3, 10, 5]   \n",
    "total = 33\n",
    "\n",
    "# Output: 2\n",
    "print(subarraySum(array, total))"
   ]
  },
  {
   "cell_type": "code",
   "execution_count": null,
   "id": "252160e1",
   "metadata": {},
   "outputs": [],
   "source": []
  },
  {
   "cell_type": "markdown",
   "id": "dbb6cd7a",
   "metadata": {},
   "source": [
    "## 1.15c) Subarray sums\n",
    "Suppose you're given an array of integers, and a number x. Find the smallest subarray with a sum greater than the given value. Given the array, the array's length n, and the number x your function should return:\n",
    "\n",
    "- The length of the smallest subarray that has a sum greater than x\n",
    "- The actual subarray that has a sum greater than x\n",
    "\n",
    "```\n",
    "For example:\n",
    "# Given the following\n",
    "array = [5,6,2,3,8] \n",
    "x = 12\n",
    "\n",
    "# Your output should be:\n",
    "array length: 2\n",
    "array: [8,6] \n",
    "# note that [8, 5] would also be an acceptable answer, as it contains a length of 2 as well\n",
    "```\n",
    "\n",
    "If the output is not possible, then you can return the length of the array + 1 (indicating that an additional element would be needed to satisfy the requirements).\n",
    "\n",
    "### Solution:\n",
    "Here, we can derive a simple solution using nested loops. Our outer loop selects a starting element while the inner loop considers all elements (to the right side of current starting element) as an ending element. Whenever sum of elements between current start and end becomes more than the given number, we update the result if the current length is smaller than the smallest length so far."
   ]
  },
  {
   "cell_type": "code",
   "execution_count": 93,
   "id": "fe72a0a3",
   "metadata": {},
   "outputs": [],
   "source": [
    "# define our function, feeding in the array, \n",
    "# the array's length (n), and the  we want to test (x)\n",
    "def sub_sum_smallest(arr, n, x):\n",
    "    curr_sum = 0\n",
    "    \n",
    "    # Initilize length of smallest subarray as n\n",
    "    len_sub = n + 1\n",
    " \n",
    "    # Loop through each element in array\n",
    "    for i in range(0,n):\n",
    "     \n",
    "        # Initialize sum starting with current start\n",
    "        curr_sum = arr[i]\n",
    " \n",
    "        # If first element itself is greater\n",
    "        if (curr_sum > x):\n",
    "            # if element > x, then we know array length is simply 1\n",
    "            return 1\n",
    " \n",
    "        # Try different ending points for current start\n",
    "        for j in range(i+1,n):\n",
    "         \n",
    "            # keep running tally of current sum\n",
    "            curr_sum += arr[j]\n",
    " \n",
    "            # If sum > x and length of subarray less than current smallest length, \n",
    "            # update the subarray length (output)\n",
    "            if curr_sum > x and (j - i + 1) < len_sub:\n",
    "                len_sub = (j - i + 1)\n",
    "         \n",
    "    return len_sub;"
   ]
  },
  {
   "cell_type": "code",
   "execution_count": 94,
   "id": "090f465c",
   "metadata": {},
   "outputs": [
    {
     "data": {
      "text/plain": [
       "3"
      ]
     },
     "execution_count": 94,
     "metadata": {},
     "output_type": "execute_result"
    }
   ],
   "source": [
    "arr = [5,6,2,3,8] \n",
    "x = 12\n",
    "n = len(arr) # array length\n",
    "\n",
    "sub_sum_smallest(arr, n, x)"
   ]
  },
  {
   "cell_type": "code",
   "execution_count": null,
   "id": "f07d4315",
   "metadata": {},
   "outputs": [],
   "source": []
  },
  {
   "cell_type": "markdown",
   "id": "95338f01",
   "metadata": {},
   "source": [
    "--------"
   ]
  },
  {
   "cell_type": "markdown",
   "id": "118fe674",
   "metadata": {},
   "source": [
    "## 1.16) Check whether two arrays are equal\n",
    "Write a function in Python (no libraries) to check whether or not two arrays are equal. You can consider the two arrays equal if both of them contain the same set of elements - the order of elements can differ. For example:\n",
    "\n",
    "```\n",
    "# Given the following:\n",
    "arr1 = [1,5,6,7,8,0]\n",
    "arr2 = [0,5,7,6,8,1]\n",
    "\n",
    "# output = Yes\n",
    "\n",
    "arr3 = [1,5,6,7,8,0]\n",
    "arr4 = [0,7,7,7,8,1]\n",
    "\n",
    "# output = No\n",
    "```"
   ]
  },
  {
   "cell_type": "code",
   "execution_count": 52,
   "id": "7f0d6e4e",
   "metadata": {},
   "outputs": [],
   "source": [
    "def arrayEqual(arr1, arr2):\n",
    "    \n",
    "    # Check if arrays are same length, if not return false because arrays are not equal\n",
    "    if (len(arr1) != len(arr2)):\n",
    "        return False;\n",
    "    \n",
    "    # Sort both arrays\n",
    "    arr1.sort();\n",
    "    arr2.sort();\n",
    "    \n",
    "    # Compare elements\n",
    "    for i in range(0, len(arr1) - 1):\n",
    "        # Return false if anything does not match\n",
    "        if (arr1[i] != arr2[i]): \n",
    "            return False;\n",
    "    \n",
    "    # Return true if all elements matched\n",
    "    return True;"
   ]
  },
  {
   "cell_type": "code",
   "execution_count": 53,
   "id": "dadd91f6",
   "metadata": {},
   "outputs": [
    {
     "name": "stdout",
     "output_type": "stream",
     "text": [
      "Yes\n"
     ]
    }
   ],
   "source": [
    "# Driver Code \n",
    "arr1 = [1,5,6,7,8,0];\n",
    "arr2 = [0,5,7,6,8,1];\n",
    "\n",
    "# output: Yes\n",
    "if (arrayEqual(arr1, arr2)):\n",
    "    print(\"Yes\"); \n",
    "else:\n",
    "    print(\"No\");"
   ]
  },
  {
   "cell_type": "code",
   "execution_count": null,
   "id": "36672fa9",
   "metadata": {},
   "outputs": [],
   "source": []
  },
  {
   "cell_type": "markdown",
   "id": "d59d0299",
   "metadata": {},
   "source": [
    "--------"
   ]
  },
  {
   "cell_type": "markdown",
   "id": "03907532",
   "metadata": {},
   "source": [
    "## 1.17a) Middle matrix sums\n",
    "Given an integer matrix, m, with an odd # dimensions, n x n, (e.g 3 x 3, 5 x 5, etc), find the sum of middle row as well as the middle column.\n",
    "\n",
    "```\n",
    "For example:\n",
    "\n",
    "# Given input:\n",
    "[[1,2,3],\n",
    "[4,5,6],\n",
    "[7,8,9]]\n",
    "\n",
    "# Your program would output:\n",
    "'Sum middle row =' 15 #(e.g. 4+5+6)\n",
    "'Sum middle column =' 15 #(e.g. 2+5+8)\n",
    "```\n"
   ]
  },
  {
   "cell_type": "code",
   "execution_count": 57,
   "id": "37d21182",
   "metadata": {},
   "outputs": [],
   "source": [
    "def middlesum(m, n): \n",
    "    \n",
    "    # variables to store output\n",
    "    row = 0\n",
    "    col = 0\n",
    "       \n",
    "    # loop for sum of row \n",
    "    for i in range(n): \n",
    "        row += m[n // 2][i] \n",
    "       \n",
    "    print(\"Sum middle row =\", row) \n",
    "       \n",
    "    # loop for sum of column \n",
    "    for i in range(n): \n",
    "        col += m[i][n // 2] \n",
    "       \n",
    "    print(\"Sum middle column =\", row) "
   ]
  },
  {
   "cell_type": "code",
   "execution_count": 58,
   "id": "6ee543e8",
   "metadata": {},
   "outputs": [
    {
     "name": "stdout",
     "output_type": "stream",
     "text": [
      "Sum middle row = 15\n",
      "Sum middle column = 15\n"
     ]
    }
   ],
   "source": [
    "# Driver code \n",
    "m = [[1, 2, 3], \n",
    "     [4, 5, 6],  \n",
    "     [7, 8, 9]] \n",
    "       \n",
    "# output: Sum middle row =  15\n",
    "#         Sum middle column =  15\n",
    "middlesum(m, 3)"
   ]
  },
  {
   "cell_type": "code",
   "execution_count": null,
   "id": "f8430970",
   "metadata": {},
   "outputs": [],
   "source": []
  },
  {
   "cell_type": "markdown",
   "id": "79abe198",
   "metadata": {},
   "source": [
    "## 1.17b) Matrix frequencies\n",
    "Given a matrix of order m*n, find the frequency of even and odd numbers in the matrix.\n",
    "\n",
    "```\n",
    "For example:\n",
    "\n",
    "# Given the following inputs\n",
    "m = 2, n = 3\n",
    "[[ 9, 11, 3 ], \n",
    "[ 4, 12, 2 ]]\n",
    "\n",
    "# Your function should return the following output:\n",
    "# Frequency of odd #:  3 (since 9, 11, and 3 are all odd #s)\n",
    "# Frequency of even #: 3\n",
    "```\n",
    "\n",
    "### Solutions\n",
    "Here, we can loop through each row/column of the matrix to test whether each element is even or odd. To test the individual elements, we use python's modulo operator '%', which divides two #s and returns the remainder. We can divide each # by 2, and if the remainder is 0, then we know the element is even, otherwise it's odd. From there, we simply need to update the counts, and build a print statement to return the requested output."
   ]
  },
  {
   "cell_type": "code",
   "execution_count": 88,
   "id": "8d47b964",
   "metadata": {},
   "outputs": [],
   "source": [
    "def freq(mat, m, n):\n",
    "    \n",
    "    # initialize frequencies\n",
    "    even = 0\n",
    "    odd = 0\n",
    "    \n",
    "    # Loop through each element in matrix, mat\n",
    "    # loop through the rows, m\n",
    "    for i in range(m):\n",
    "        \n",
    "        #for each row, loop through each column\n",
    "        for j in range(n):\n",
    "            \n",
    "            # if divisible by 2, then even, else odd, update counts accordingly\n",
    "            if ((mat[i][j] % 2) == 0):\n",
    "                even += 1\n",
    "            else:\n",
    "                odd += 1\n",
    "      \n",
    "    # print Frequency of numbers\n",
    "    print(\"Frequency of odd #:\", odd)\n",
    "    print(\"Frequency of even #:\", even)"
   ]
  },
  {
   "cell_type": "code",
   "execution_count": 89,
   "id": "5a198f31",
   "metadata": {},
   "outputs": [
    {
     "name": "stdout",
     "output_type": "stream",
     "text": [
      "Frequency of odd #: 3\n",
      "Frequency of even #: 3\n"
     ]
    }
   ],
   "source": [
    "# driver code (feel free to change to test the output)\n",
    "m = 2\n",
    "n = 3 \n",
    "mat = [[ 9, 11, 3 ], [ 4, 12, 2 ]]\n",
    "\n",
    "# Output: Frequency of odd #: 3\n",
    "#         Frequency of even #: 3\n",
    "freq(mat, m, n)"
   ]
  },
  {
   "cell_type": "code",
   "execution_count": null,
   "id": "1987eba2",
   "metadata": {},
   "outputs": [],
   "source": []
  },
  {
   "cell_type": "markdown",
   "id": "5cc4745b",
   "metadata": {},
   "source": [
    "--------"
   ]
  },
  {
   "cell_type": "markdown",
   "id": "25d03eae",
   "metadata": {},
   "source": [
    "## 1.18) Alternative array sorting\n",
    "\n",
    "Given an array of integers, print the array in alternating min/max order. The first element should be the first maximum, second element should be the first minimum, third element should be second maximum, etc.\n",
    "\n",
    "```\n",
    "For example:\n",
    "\n",
    "# Given the following array:\n",
    "arr[] = [10, 2, 11, 3, 7, 4, 1]\n",
    "\n",
    "# Your function should return:\n",
    "11, 1, 10, 2, 7, 3, 4\n",
    "```"
   ]
  },
  {
   "cell_type": "code",
   "execution_count": 61,
   "id": "093f1ab2",
   "metadata": {},
   "outputs": [],
   "source": [
    "# Define a function to print our alternate sorted values. Feeding in array (arr) \n",
    "# and the length of the array (n):\n",
    "def altSort(arr, n): \n",
    "    \n",
    "    # Initial sort of the array, default sorting in ascending order\n",
    "    arr.sort()  \n",
    "  \n",
    "    # While loop to print last (max) element first, then first (min) element, \n",
    "    # then second last element (second max) etc\n",
    "    # Defining range, loop from 0 to array length\n",
    "    i = 0\n",
    "    j = n-1\n",
    "      \n",
    "    while (i < j):  \n",
    "        # Our maxes: print last element, second to last element, etc\n",
    "        print(arr[j], end =\" \") \n",
    "        j-= 1\n",
    "        \n",
    "        # Our mins: print first element, second to first element, etc\n",
    "        print(arr[i], end =\" \") \n",
    "        i+= 1\n",
    "  \n",
    "    # If the total elements in array sum to odd number, then we  \n",
    "    # print the remaining middle element\n",
    "    if (n % 2 != 0):\n",
    "        print(arr[i]) "
   ]
  },
  {
   "cell_type": "code",
   "execution_count": 62,
   "id": "af9d96d7",
   "metadata": {},
   "outputs": [
    {
     "name": "stdout",
     "output_type": "stream",
     "text": [
      "11 1 10 2 7 3 4\n"
     ]
    }
   ],
   "source": [
    "# Based on our question prompt, can feed the following into function: \n",
    "arr = [10, 2, 11, 3, 7, 4, 1]\n",
    "n = len(arr) \n",
    "\n",
    "# output: 11 1 10 2 7 3 4\n",
    "altSort(arr, n) "
   ]
  },
  {
   "cell_type": "code",
   "execution_count": null,
   "id": "8e1b83ad",
   "metadata": {},
   "outputs": [],
   "source": []
  },
  {
   "cell_type": "markdown",
   "id": "2d334d3c",
   "metadata": {},
   "source": [
    "--------"
   ]
  },
  {
   "cell_type": "markdown",
   "id": "608e3e60",
   "metadata": {},
   "source": [
    "## 1.19) Pythagorean Triplet\n",
    "Given an array of integers, can you write a function that returns \"True\" if there is a triplet (a, b, c) within the array that satisfies `a^2 + b^2 = c^2`?\n",
    "\n",
    "```\n",
    "For example:\n",
    "Input: arr[] = [3, 1, 4, 6, 5]\n",
    "\n",
    "# There is a Pythagorean triplet (3, 4, 5) that exists in the input array.\n",
    "Output: True\n",
    "\n",
    "Input: arr[] = [10, 4, 6, 12, 5]\n",
    "\n",
    "# There is no Pythagorean triplet that exists in the input array.\n",
    "Output: False\n",
    "```"
   ]
  },
  {
   "cell_type": "code",
   "execution_count": 63,
   "id": "394fa8fc",
   "metadata": {},
   "outputs": [],
   "source": [
    "def isTriplet(array, n): \n",
    "    \n",
    "    # We're staggering the element of the array by increments of 1 and 2\n",
    "    # so we get a total of 3 elements to test on\n",
    "    j = 0\n",
    "    \n",
    "    for i in range(n-2): \n",
    "        for k in range(j+1, n): \n",
    "            for j in range(i+1, n-1):\n",
    "                \n",
    "                # calculating the square of the array \"**\" = power of so 3**2 = 9\n",
    "                x = array[i]**2\n",
    "                y = array[j]**2\n",
    "                z = array[k]**2\n",
    "\n",
    "                # testing to see if our selected triplet passes\n",
    "                if (x == y + z or y == x + z or z == x + y): \n",
    "                    return 1\n",
    "                \n",
    "    # if we didn't find a triplet we break out of the loop\n",
    "    return 0"
   ]
  },
  {
   "cell_type": "code",
   "execution_count": 64,
   "id": "275ad551",
   "metadata": {},
   "outputs": [
    {
     "name": "stdout",
     "output_type": "stream",
     "text": [
      "True\n"
     ]
    }
   ],
   "source": [
    "# Driver code\n",
    "array = [3, 1, 4, 6, 5] \n",
    "array_size = len(array) \n",
    "\n",
    "# output: True\n",
    "if(isTriplet(array, array_size)): \n",
    "    print(True) \n",
    "else: \n",
    "    print(False)"
   ]
  },
  {
   "cell_type": "code",
   "execution_count": 65,
   "id": "23776826",
   "metadata": {},
   "outputs": [
    {
     "name": "stdout",
     "output_type": "stream",
     "text": [
      "False\n"
     ]
    }
   ],
   "source": [
    "# Driver code\n",
    "arr2 = [10, 4, 6, 12, 5]\n",
    "arr_size2 = len(arr2) \n",
    "\n",
    "# output: True\n",
    "if(isTriplet(arr2, arr_size2)): \n",
    "    print(True) \n",
    "else: \n",
    "    print(False)"
   ]
  },
  {
   "cell_type": "code",
   "execution_count": null,
   "id": "c3fbe5dd",
   "metadata": {},
   "outputs": [],
   "source": []
  },
  {
   "cell_type": "markdown",
   "id": "66658d7d",
   "metadata": {},
   "source": [
    "--------"
   ]
  },
  {
   "cell_type": "markdown",
   "id": "76c139ea",
   "metadata": {},
   "source": [
    "## 1.19a) Triplets that sum to zero\n",
    "Given an array of n distinct elements, can you find all the triplet combinations that sum to zero?\n",
    "\n",
    "```\n",
    "For example:\n",
    "\n",
    "Input: [0, -1, 2, -3, 1]\n",
    "Output: \n",
    "0 -1 1\n",
    "2 -3 1\n",
    "\n",
    "Input: [1, -2, 1, 0, 5]\n",
    "Output: 1 -2  1\n",
    "```"
   ]
  },
  {
   "cell_type": "code",
   "execution_count": 66,
   "id": "b2dbbed0",
   "metadata": {},
   "outputs": [],
   "source": [
    "def arrayTriplets(array): \n",
    "    # length of array\n",
    "    n = len(array) \n",
    "    \n",
    "    # define our found trigger\n",
    "    found = False\n",
    "    \n",
    "    for i in range(0, n-2): \n",
    "        for j in range(i+1, n-1): \n",
    "            for k in range(j+1, n): \n",
    "                if (array[i] + array[j] + array[k] == 0): \n",
    "                    print(array[i], array[j], array[k]) \n",
    "                    found = True\n",
    "                    \n",
    "    # if no triplet with 0 sum is found, we execute this code\n",
    "    if (found == False): \n",
    "        print(\"No triplet exists\") "
   ]
  },
  {
   "cell_type": "code",
   "execution_count": 67,
   "id": "850abf7a",
   "metadata": {},
   "outputs": [
    {
     "name": "stdout",
     "output_type": "stream",
     "text": [
      "No triplet exists\n"
     ]
    }
   ],
   "source": [
    "# Driver code \n",
    "array1 = [1, 1, 2, 1, 1]\n",
    "\n",
    "# output: no triplet exists \n",
    "arrayTriplets(array1)"
   ]
  },
  {
   "cell_type": "code",
   "execution_count": 68,
   "id": "6c22ad05",
   "metadata": {},
   "outputs": [
    {
     "name": "stdout",
     "output_type": "stream",
     "text": [
      "0 -1 1\n",
      "2 -3 1\n"
     ]
    }
   ],
   "source": [
    "# Driver code \n",
    "array2 = [0, -1, 2, -3, 1]\n",
    "# output: 0 -1 1, 1 -2 1\n",
    "arrayTriplets(array2) "
   ]
  },
  {
   "cell_type": "code",
   "execution_count": null,
   "id": "996a2a21",
   "metadata": {},
   "outputs": [],
   "source": []
  },
  {
   "cell_type": "markdown",
   "id": "4800bc71",
   "metadata": {},
   "source": [
    "## 1.19b) Count of triplets\n",
    "Given an array of unique integers and a sum value, can you write code to find the number of triplets with a sum smaller than the given value?\n",
    "\n",
    "```\n",
    "For example:\n",
    "\n",
    "# Given the following\n",
    "Array = [5, 1, 3, 4, 7]\n",
    "Sum value = 12\n",
    "\n",
    "# Output: \n",
    "4\n",
    "\n",
    "Explanation: There are 4 triplets that have a sum less than 12: \n",
    "(1, 3, 4), (1, 3, 5), (1, 3, 7), and (1, 4, 5)\n",
    "```"
   ]
  },
  {
   "cell_type": "code",
   "execution_count": 69,
   "id": "116682f2",
   "metadata": {},
   "outputs": [],
   "source": [
    "def count_of_triplets(array, sum_value):\n",
    "    \n",
    "    # variable for running count of number of triplets\n",
    "    count_triplets = 0\n",
    "    \n",
    "    # get length of the input array is so we can traverse through it\n",
    "    array_length = len(array) \n",
    "    \n",
    "    # Fix the 1st element as A[i] as the first element in array\n",
    "    # Then go through the entire array except for the last 2 positions \n",
    "    # because those will be covered by second and third element in the triplet\n",
    "    for i in range(0, array_length-2): \n",
    "        \n",
    "        # Fix the 2nd element as A[j], which will start from the 2nd element in the array\n",
    "        # Then go through entire array except for the last position, \n",
    "        # which will be covered by 3rd element\n",
    "        for j in range(i+1 ,array_length-1):\n",
    "            \n",
    "            # Now look for the third number that is less than the single value\n",
    "            for k in range(j+1, array_length): \n",
    "                \n",
    "                if (array[i] + array[j] + array[k] < sum_value): \n",
    "                    # if the value of the array < the value provided, \n",
    "                    # we'll add 1 to our counter\n",
    "                    count_triplets += 1\n",
    "    \n",
    "    # output the total number of triplets\n",
    "    return count_triplets"
   ]
  },
  {
   "cell_type": "code",
   "execution_count": 70,
   "id": "b2f59075",
   "metadata": {},
   "outputs": [
    {
     "data": {
      "text/plain": [
       "4"
      ]
     },
     "execution_count": 70,
     "metadata": {},
     "output_type": "execute_result"
    }
   ],
   "source": [
    "Array = [5, 1, 3, 4, 7]\n",
    "Sum_value = 12\n",
    "\n",
    "# output: 4 triplets\n",
    "count_of_triplets(Array, Sum_value)"
   ]
  },
  {
   "cell_type": "code",
   "execution_count": null,
   "id": "f23c841d",
   "metadata": {},
   "outputs": [],
   "source": []
  },
  {
   "cell_type": "markdown",
   "id": "53b51c53",
   "metadata": {},
   "source": [
    "--------"
   ]
  },
  {
   "cell_type": "markdown",
   "id": "f2a79cf3",
   "metadata": {},
   "source": [
    "## 1.20a) Find n-th missing element in unsorted array\n",
    "Suppose you're given an unsorted array, a. The array is intended to have all integer elements between its minimum and maximum, but could be missing some elements. Write a python function to find the n-th missing element in the array. Consider the array in sorted order, then find the n-th missing number. If the n-th missing number does not exist, you can output 'Does not exist'.\n",
    "\n",
    "```\n",
    "Examples:\n",
    "\n",
    "Input: a = [2, 3, 11, 9], n = 3\n",
    "Output: 6\n",
    "\n",
    "- Missing elements in array: [4, 5, 6, 7, 8, 10]. So, the 3rd missing element is 6.\n",
    "\n",
    "Input: a = [2, 3, 5], n = 5\n",
    "Output: 'Does not exist'\n",
    "\n",
    "- Since there is no 5th missing element in the array, we output 'Does not exist' (the only missing element here is 4).\n",
    "```"
   ]
  },
  {
   "cell_type": "code",
   "execution_count": 71,
   "id": "71dfd876",
   "metadata": {},
   "outputs": [],
   "source": [
    "def findNth(arr, length, n):\n",
    "    \n",
    "    # Declare dictionary for missing elements, initialize count\n",
    "    missing = dict() \n",
    "    count = 0\n",
    "    \n",
    "    # Insert all the elements in a dict \n",
    "    for i in range(length):\n",
    "        \n",
    "        # Just setting a value here for each element, this could be whatever integer \n",
    "        # key/value format of dict w/ driver code is: {2: 1, 3: 1, 11: 1, 9: 1}\n",
    "        missing[arr[i]] = 1\n",
    "        \n",
    "    # Find the maximum and minimum element \n",
    "    maxm = max(arr)\n",
    "    minm = min(arr)\n",
    "    \n",
    "    # Traverse from the minimum to maximum element \n",
    "    for i in range(minm + 1, maxm):\n",
    "        \n",
    "        # Check if \"i\" is missing in our dict\n",
    "        if (i not in missing.keys()): \n",
    "            count += 1\n",
    "            \n",
    "        # Check if it is nth missing \n",
    "        if (count == n): \n",
    "            return i \n",
    "        \n",
    "    # If no nth element is missing \n",
    "    return 'Does not exist'"
   ]
  },
  {
   "cell_type": "code",
   "execution_count": 72,
   "id": "f7d8b6ce",
   "metadata": {},
   "outputs": [
    {
     "data": {
      "text/plain": [
       "6"
      ]
     },
     "execution_count": 72,
     "metadata": {},
     "output_type": "execute_result"
    }
   ],
   "source": [
    "# Driver code \n",
    "arr = [2, 3, 11, 9]\n",
    "length = len(arr) \n",
    "n = 3\n",
    "\n",
    "# output: 6\n",
    "findNth(arr, length, n)"
   ]
  },
  {
   "cell_type": "code",
   "execution_count": null,
   "id": "15de938a",
   "metadata": {},
   "outputs": [],
   "source": []
  },
  {
   "cell_type": "markdown",
   "id": "04446222",
   "metadata": {},
   "source": [
    "## 1.20b) Empty slot in list of integers\n",
    "You have a list of integers that range from values 1 to n. Each value in the list is unique, however one random slot in the list is empty, making the size of the input array n-1. Can you write a function to find the missing integer?\n",
    "\n",
    "```\n",
    "Examples:\n",
    "Input: arr[] = [1, 2, 4, 6, 3, 7, 8]\n",
    "Output: 5\n",
    "\n",
    "Input: arr[] = [1, 3, 2, 5, 6]\n",
    "Output: 4\n",
    "```\n",
    "\n",
    "### Solution\n",
    "The input array is a list of numbers from `1-n`. The sum of natural numbers from 1 to n (e.g. the definition of our input), can be expressed as `n * (n+1) / 2`. The only modification that we need to make is to add 1 to the length of the array because the array is missing 1 integer."
   ]
  },
  {
   "cell_type": "code",
   "execution_count": 73,
   "id": "489ff9d0",
   "metadata": {},
   "outputs": [],
   "source": [
    "def returnMissingNumber(array): \n",
    "\n",
    "    # length of the input array\n",
    "    n = len(array)\n",
    "\n",
    "    # since we're missing 1 element, we're going to add it to the length \n",
    "    # of the entire list \n",
    "    n = n + 1\n",
    "    \n",
    "    # the total sum of the array if all numbers were included\n",
    "    total = (n)*(n+1)/2\n",
    "\n",
    "    # the total sum of the input array\n",
    "    sum_of_array = sum(array) \n",
    "\n",
    "    # returning the missing number\n",
    "    return (total - sum_of_array)"
   ]
  },
  {
   "cell_type": "code",
   "execution_count": 74,
   "id": "124a1db0",
   "metadata": {},
   "outputs": [
    {
     "name": "stdout",
     "output_type": "stream",
     "text": [
      "4.0\n"
     ]
    }
   ],
   "source": [
    "# Driver code\n",
    "array = [1, 3, 2, 5, 6]\n",
    "\n",
    "# output: 4.0\n",
    "print(returnMissingNumber(array))"
   ]
  },
  {
   "cell_type": "code",
   "execution_count": null,
   "id": "ad6dae8b",
   "metadata": {},
   "outputs": [],
   "source": []
  },
  {
   "cell_type": "markdown",
   "id": "8d6d4c7d",
   "metadata": {},
   "source": [
    "## 1.20c) Smallest missing number in array\n",
    "Write a function that outputs the smallest missing number in a sorted array of n unique integers. The integers in the array range from 0 to m-1, where m > n. The function should be called `SmallestMissingNumber` and the 3 inputs are:\n",
    "\n",
    "```\n",
    "    the array\n",
    "    the \"start value\" of the array\n",
    "    the length of the array - 1\n",
    "\n",
    "For example:\n",
    "# Input: \n",
    "[0, 1, 3, 4, 8, 9], n = 5, m = 10\n",
    "# Output: \n",
    "2\n",
    "\n",
    "# Input: \n",
    "[4, 7, 9, 11], n = 4, m = 12\n",
    "# Output: \n",
    "0\n",
    "```\n",
    "\n",
    "### Solution\n",
    "We can reduce our time complexity by splitting the array into components that make sense to evaluate given the conditions above. Below is a solution that has `O(log(n))` complexity that utilizes recursion."
   ]
  },
  {
   "cell_type": "code",
   "execution_count": 75,
   "id": "86709888",
   "metadata": {},
   "outputs": [],
   "source": [
    "# Returns the smallest element that is missing from a sorted array\n",
    "def SmallestMissingNumber(array, start_value, end_value):\n",
    "    # check to ensure that the start value is not longer than the end value\n",
    "    if (start_value > end_value):\n",
    "        return end_value + 1\n",
    "    \n",
    "    # check to ensure start value doesn't equal the index value of the \n",
    "    # start value within the array (e.g. if start value = 0, check to see if \n",
    "    # the first element of the array is zero, if not true, skip this)\n",
    "    if (start_value != array[start_value]):\n",
    "        return start_value;\n",
    "    \n",
    "    # we're going to calculate the mid-point within the array\n",
    "    mid_value = int((start_value + end_value) / 2)\n",
    "    \n",
    "    # Check to see if the mid-point of the array equals the the mid-value, \n",
    "    # if so lets pass the array, the mid_value+1 as the start value\n",
    "    # and the end value as the same, our missing element is a higher index \n",
    "    # in the array\n",
    "    if (array[mid_value] == mid_value):\n",
    "        return SmallestMissingNumber(array, mid_value+1, end_value)\n",
    "    \n",
    "    # if above check fails, this means that the missing value is a lower \n",
    "    # index than half way, we're going to pass the start and midpoint value through\n",
    "    # the function again\n",
    "    return SmallestMissingNumber(array, start_value, mid_value)"
   ]
  },
  {
   "cell_type": "code",
   "execution_count": 76,
   "id": "606ee100",
   "metadata": {},
   "outputs": [
    {
     "data": {
      "text/plain": [
       "2"
      ]
     },
     "execution_count": 76,
     "metadata": {},
     "output_type": "execute_result"
    }
   ],
   "source": [
    "# driver code\n",
    "array = [0, 1, 3, 4, 8, 9]\n",
    "start_value = min(array)\n",
    "end_value = len(array) - 1 \n",
    "\n",
    "# Output: 2\n",
    "SmallestMissingNumber(array, start_value, end_value)"
   ]
  },
  {
   "cell_type": "code",
   "execution_count": null,
   "id": "a48040ca",
   "metadata": {},
   "outputs": [],
   "source": []
  },
  {
   "cell_type": "markdown",
   "id": "cf01c766",
   "metadata": {},
   "source": [
    "--------"
   ]
  },
  {
   "cell_type": "markdown",
   "id": "3adabbff",
   "metadata": {},
   "source": [
    "## 1.21a) Maximum absolute difference\n",
    "Suppose you're given an array of integers of length N. Write a function using Python to select j numbers that will maximize the absolute difference between the j numbers chosen and those remaining in the array.\n",
    "\n",
    "```\n",
    "Examples:\n",
    "\n",
    "Input: array = [2, 6, 2, 1, 10]\n",
    "j = 2\n",
    "\n",
    "# Output: Here 1,2 are selected, with the difference between the sum of j (1+2=3) and the remaining numbers (6+10+2 = 18) being 15\n",
    "\n",
    "Input: array = [1, 4, 3, 2, 4]\n",
    "j = 4\n",
    "\n",
    "# Output: Here we would select 4, 4, 3, 2 for a sum of 13, whereas the sum of the remaining number is 1. Therefore, the difference between j and our remaining number is 12\n",
    "```"
   ]
  },
  {
   "cell_type": "code",
   "execution_count": 77,
   "id": "9cb94379",
   "metadata": {},
   "outputs": [],
   "source": [
    "def max_distance(arr, j):  \n",
    "    # Sort the array\n",
    "    arr.sort()\n",
    "    \n",
    "    # Sum all elements\n",
    "    sum0 = sum(arr)\n",
    "    \n",
    "    # Sum first j elements \n",
    "    sum1 = sum(arr[:j])\n",
    "    \n",
    "    # Sum last j elements\n",
    "    sum2 = sum(arr[:-j])\n",
    "    \n",
    "    # Calculate possible differences, return max\n",
    "    # (e.g. first j - remaining, last j - remaining)\n",
    "    return max(abs(sum1-(sum0-sum1)), abs(sum2-(sum0-sum2)))"
   ]
  },
  {
   "cell_type": "code",
   "execution_count": 78,
   "id": "0d90d2bd",
   "metadata": {},
   "outputs": [
    {
     "data": {
      "text/plain": [
       "12"
      ]
     },
     "execution_count": 78,
     "metadata": {},
     "output_type": "execute_result"
    }
   ],
   "source": [
    "# Driver code \n",
    "j = 4\n",
    "arr = [1, 4, 3, 2, 4]\n",
    "\n",
    "# output: 12\n",
    "max_distance(arr, j)"
   ]
  },
  {
   "cell_type": "code",
   "execution_count": null,
   "id": "6c1e6f11",
   "metadata": {},
   "outputs": [],
   "source": []
  },
  {
   "cell_type": "markdown",
   "id": "170d290e",
   "metadata": {},
   "source": [
    "## 1.21b) Calculating max distance between array elements in Python\n",
    "Suppose you are given an array of length n. Choose i numbers in the array such that the absolute difference between the sum of your numbers and the sum of remaining numbers is as large as possible. Your function should return the max possible distance between the two sets of numbers.\n",
    "\n",
    "```\n",
    "For example:\n",
    "array = [2, 4, 3, 1, 10]\n",
    "i = 2\n",
    "\n",
    "Output: 14 (Here, we chose numbers (1,2) and the sum of the remaining numbers (4,3,10) is 17. Therefore, our output is 17 - 3 = 14)\n",
    "```"
   ]
  },
  {
   "cell_type": "code",
   "execution_count": 79,
   "id": "a691a699",
   "metadata": {},
   "outputs": [],
   "source": [
    "def solve(array, i): \n",
    "    \n",
    "    # Initial sort of the array \n",
    "    array.sort() \n",
    "    \n",
    "    # We sum of all the elements \n",
    "    sum_all = sum(array) \n",
    "    \n",
    "    # Then we grab the sum of the first i elements\n",
    "    sum_first_i = sum(array[:i]) \n",
    "    \n",
    "    # Then we grab the sum of the last i elements\n",
    "    sum_last_i = sum(array[i:]) \n",
    "    \n",
    "    # We can use Python's max() function to return \n",
    "    # the maximum possible difference between the two formulas\n",
    "    return max(abs(sum_first_i-(sum_all-sum_first_i)), abs(sum_last_i-(sum_all-sum_last_i))) \n"
   ]
  },
  {
   "cell_type": "code",
   "execution_count": 80,
   "id": "c091b0d8",
   "metadata": {},
   "outputs": [
    {
     "name": "stdout",
     "output_type": "stream",
     "text": [
      "14\n"
     ]
    }
   ],
   "source": [
    "# Driver function \n",
    "i = 2\n",
    "array = [2, 4, 3, 1, 10]\n",
    "\n",
    "# Output: 14\n",
    "print(solve(array, i))"
   ]
  },
  {
   "cell_type": "code",
   "execution_count": null,
   "id": "a22929fb",
   "metadata": {},
   "outputs": [],
   "source": []
  },
  {
   "cell_type": "markdown",
   "id": "ceca1c2c",
   "metadata": {},
   "source": [
    "--------"
   ]
  },
  {
   "cell_type": "markdown",
   "id": "9e9f852d",
   "metadata": {},
   "source": [
    "## 1.22) Largest elements in an array\n",
    "Given an array with k distinct elements, write a function to return all elements that have at least two elements greater than themselves in the same array:\n",
    "\n",
    "```\n",
    "# Input:\n",
    "array = [2,3,9,7,6]\n",
    "\n",
    "# Output:\n",
    "[2,3,6]\n",
    "```\n",
    "\n",
    "We can solve this problem in a few different ways, with varying levels of complexity. For our solution, we will use sorting."
   ]
  },
  {
   "cell_type": "code",
   "execution_count": 81,
   "id": "5214331a",
   "metadata": {},
   "outputs": [],
   "source": [
    "# feed in the array and the length of the array (k) as inputs\n",
    "def findGreaterTwo(array, k): \n",
    "    \n",
    "    # use Python's sort() function to order the array (in ascending order)\n",
    "    array.sort() \n",
    "    \n",
    "    # everything except the last two elements will satisfy the requirements above \n",
    "    # (having at least 2 elements w/ greater value)\n",
    "    # so, can simply loop through and print all but the last 2 elements in array!\n",
    "    for i in range(0, k-2): \n",
    "        print(array[i], end =\" \") "
   ]
  },
  {
   "cell_type": "code",
   "execution_count": 83,
   "id": "6b72845b",
   "metadata": {},
   "outputs": [
    {
     "name": "stdout",
     "output_type": "stream",
     "text": [
      "2 3 4 6 7 "
     ]
    }
   ],
   "source": [
    "array = [2,3,9,7,6,8,4]\n",
    "k = len(array)\n",
    "\n",
    "# Output: 2 3 4 6 7 \n",
    "findGreaterTwo(array, k)"
   ]
  },
  {
   "cell_type": "code",
   "execution_count": null,
   "id": "ee86a88b",
   "metadata": {},
   "outputs": [],
   "source": []
  },
  {
   "cell_type": "markdown",
   "id": "61225a5f",
   "metadata": {},
   "source": [
    "--------"
   ]
  },
  {
   "cell_type": "markdown",
   "id": "6c2df94a",
   "metadata": {},
   "source": [
    "## 1.23) Reorder an array by x elements in Python\n",
    "Given an array of size n, write a function to move x elements from the front to the end of the array.\n",
    "\n",
    "```\n",
    "For example:\n",
    "# Given the following:\n",
    "array = [2,4,6,8,10]\n",
    "x = 3\n",
    "\n",
    "# To shift 3 elements you would return:\n",
    "[8,10,2,4,6]\n",
    "```"
   ]
  },
  {
   "cell_type": "code",
   "execution_count": 84,
   "id": "77a364f5",
   "metadata": {},
   "outputs": [],
   "source": [
    "# Function to shift x elements in array of size n from beginning to end\n",
    "def shiftElementsToBack(arr, x, n):\n",
    "    \n",
    "    for i in range(x): \n",
    "        # for each element in the array (up to the number we want to shift), \n",
    "        # feed into shiftByOne function\n",
    "        shiftByOne(arr, n)\n",
    "        \n",
    "# Function to shift arr[] of size n by 1 \n",
    "def shiftByOne(arr, n): \n",
    "    \n",
    "    # initialize temporary array, to hold far right element\n",
    "    temp = arr[0]\n",
    "    \n",
    "    # Loop through each element in array\n",
    "    for i in range(n-1):\n",
    "        \n",
    "        # shift to the right by one\n",
    "        arr[i] = arr[i + 1]\n",
    "        \n",
    "    # Drop our far left (first) element to the end of our new array\n",
    "    arr[n-1] = temp"
   ]
  },
  {
   "cell_type": "code",
   "execution_count": 85,
   "id": "cbfd5b04",
   "metadata": {},
   "outputs": [
    {
     "name": "stdout",
     "output_type": "stream",
     "text": [
      "[8, 10, 12, 14, 2, 4, 6]\n"
     ]
    }
   ],
   "source": [
    "# Driver code to test above functions \n",
    "arr = [2,4,6,8,10,12,14]\n",
    "shiftElementsToBack(arr, 3, len(arr))\n",
    "\n",
    "# Output: [8, 10, 12, 14, 2, 4, 6]\n",
    "print(arr) "
   ]
  },
  {
   "cell_type": "code",
   "execution_count": null,
   "id": "202d7ada",
   "metadata": {},
   "outputs": [],
   "source": []
  },
  {
   "cell_type": "markdown",
   "id": "d3abe74e",
   "metadata": {},
   "source": [
    "--------"
   ]
  },
  {
   "cell_type": "markdown",
   "id": "50a8378f",
   "metadata": {},
   "source": [
    "## 1.24) Sum to N\n",
    "\n",
    "Given a list of integers, and an integer N, write a function sum_to_n find all combinations that sum to the value N.\n",
    "\n",
    "```\n",
    "Example: \n",
    "\n",
    "Input:\n",
    "integers = [2,3,5]\n",
    "N = 8\n",
    "\n",
    "Output:\n",
    "def sum_to_n(integers, N) ->\n",
    " [\n",
    "  [2,2,2,2],\n",
    "  [2,3,3],\n",
    "  [3,5]\n",
    "]\n",
    "```\n"
   ]
  },
  {
   "cell_type": "code",
   "execution_count": 95,
   "id": "5cb984e4",
   "metadata": {},
   "outputs": [],
   "source": [
    "def sum_to_n(integers, N):\n",
    "    output = []\n",
    "    \n",
    "    if N < 0:\n",
    "        return []\n",
    "    \n",
    "    # We subtract each integer individually from the target \n",
    "    # to see which will reduce the target to 0.\n",
    "    # We can just append our subtracted integer value to each combination \n",
    "    # to produce the actual output.\n",
    "    for i in range(len(integers)):\n",
    "        \n",
    "        if N == integers[i]:\n",
    "            output.append([integers[i]])\n",
    "        else:\n",
    "            for j in sum_to_n(integers[i:], N-integers[i]):\n",
    "                output.append([integers[i]]+j)\n",
    "                \n",
    "    return output"
   ]
  },
  {
   "cell_type": "code",
   "execution_count": 96,
   "id": "270d8c39",
   "metadata": {},
   "outputs": [
    {
     "data": {
      "text/plain": [
       "[[2, 2, 2, 2], [2, 3, 3], [3, 5]]"
      ]
     },
     "execution_count": 96,
     "metadata": {},
     "output_type": "execute_result"
    }
   ],
   "source": [
    "ints = [2,3,5]\n",
    "n = 8\n",
    "\n",
    "sum_to_n(ints, n)"
   ]
  },
  {
   "cell_type": "code",
   "execution_count": null,
   "id": "0842220c",
   "metadata": {},
   "outputs": [],
   "source": []
  },
  {
   "cell_type": "markdown",
   "id": "d2d81b95",
   "metadata": {},
   "source": [
    "--------"
   ]
  },
  {
   "cell_type": "markdown",
   "id": "56b8f8aa",
   "metadata": {},
   "source": [
    "## 1.25a) Power sets 1\n",
    "Create a python function that generates the power set given a set of values. For example, if you're given the following set:\n",
    "```\n",
    "set = {1, 2, 3}\n",
    "```\n",
    "\n",
    "Your python function should the corresponding power set (note this can be a formatted as a list of lists):\n",
    "\n",
    "```\n",
    "power set = [[], [1], [2], [1, 2], [3], [1, 3], [2, 3], [1, 2, 3]]\n",
    "```\n",
    "\n",
    "The solution below iterates through each number in the given set, and appends it to the last sets defined within the power_set variable."
   ]
  },
  {
   "cell_type": "code",
   "execution_count": 97,
   "id": "d3d95147",
   "metadata": {},
   "outputs": [],
   "source": [
    "def powerSet(x):\n",
    "    \n",
    "    power_set=[[]]\n",
    "    for elem in x:\n",
    "        \n",
    "        # iterate over the subsets we have so far \n",
    "        for sub_set in power_set:\n",
    "            \n",
    "            # add a new subset consisting of the subset we're on, and add the  \n",
    "            # the new element to all of the previous subsets within power_set\n",
    "            power_set=power_set+[list(sub_set)+[elem]]\n",
    "            \n",
    "    return power_set"
   ]
  },
  {
   "cell_type": "code",
   "execution_count": 98,
   "id": "22dd8a88",
   "metadata": {},
   "outputs": [
    {
     "data": {
      "text/plain": [
       "[[], [1], [2], [1, 2], [3], [1, 3], [2, 3], [1, 2, 3]]"
      ]
     },
     "execution_count": 98,
     "metadata": {},
     "output_type": "execute_result"
    }
   ],
   "source": [
    "# driver code\n",
    "x = [1, 2, 3]\n",
    "\n",
    "# Output: [[], [1], [2], [1, 2], [3], [1, 3], [2, 3], [1, 2, 3]]\n",
    "powerSet(x)"
   ]
  },
  {
   "cell_type": "code",
   "execution_count": null,
   "id": "5890e3f3",
   "metadata": {},
   "outputs": [],
   "source": []
  },
  {
   "cell_type": "markdown",
   "id": "4f35a75f",
   "metadata": {},
   "source": [
    "## 1.36b) Power sets 2"
   ]
  },
  {
   "cell_type": "code",
   "execution_count": 99,
   "id": "fc1fc644",
   "metadata": {},
   "outputs": [],
   "source": [
    "from itertools import combinations\n",
    "\n",
    "# iterate a loop over 0 to the length of the set to obtain and generate\n",
    "# all possible combinations of that string with the iterable length\n",
    "\n",
    "def ppowerset(string):\n",
    "    \n",
    "    for i in range(0,len(string)+1):\n",
    "        for element in combinations(string,i):\n",
    "            print(''.join(element))"
   ]
  },
  {
   "cell_type": "code",
   "execution_count": 100,
   "id": "08619ae5",
   "metadata": {},
   "outputs": [
    {
     "name": "stdout",
     "output_type": "stream",
     "text": [
      "\n",
      "a\n",
      "b\n",
      "c\n",
      "ab\n",
      "ac\n",
      "bc\n",
      "abc\n"
     ]
    }
   ],
   "source": [
    "sss = ['a','b','c']\n",
    "\n",
    "# empty space output inclusive\n",
    "# Output: '', 'a', 'b', 'c', 'ab', 'ac', 'bc', 'abc'\n",
    "ppowerset(sss)"
   ]
  },
  {
   "cell_type": "code",
   "execution_count": null,
   "id": "60cc041b",
   "metadata": {},
   "outputs": [],
   "source": []
  },
  {
   "cell_type": "markdown",
   "id": "1af69a81",
   "metadata": {},
   "source": [
    "--------"
   ]
  },
  {
   "cell_type": "markdown",
   "id": "cd7452c8",
   "metadata": {},
   "source": [
    "## 1.37) Reverse a string\n",
    "```\n",
    "input = \"geeks for geeks\"\n",
    "output = \"skeeg rof skeeg\"\n",
    "```"
   ]
  },
  {
   "cell_type": "code",
   "execution_count": 3,
   "id": "322652fb",
   "metadata": {},
   "outputs": [],
   "source": [
    "def recursiveReverse(ss):\n",
    "    \n",
    "    # converting string to list\n",
    "    slist = list(ss) \n",
    "     \n",
    "    # using as stack\n",
    "    stack = []\n",
    " \n",
    "    # append each character to a list\n",
    "    for i in range(len(slist)):\n",
    "        stack.append(slist[i])\n",
    "        print(stack)\n",
    "     \n",
    "    # then remove each character in a last in first out manner\n",
    "    for i in range(len(slist)):\n",
    "        slist[i] = stack.pop()\n",
    "        print(slist[i])\n",
    "    \n",
    "    # converting list to string\n",
    "    ssr = ''.join(slist)\n",
    "    return ssr\n"
   ]
  },
  {
   "cell_type": "code",
   "execution_count": 4,
   "id": "c8ddfc3d",
   "metadata": {},
   "outputs": [
    {
     "name": "stdout",
     "output_type": "stream",
     "text": [
      "['g']\n",
      "['g', 'e']\n",
      "['g', 'e', 'e']\n",
      "['g', 'e', 'e', 'k']\n",
      "['g', 'e', 'e', 'k', 's']\n",
      "['g', 'e', 'e', 'k', 's', ' ']\n",
      "['g', 'e', 'e', 'k', 's', ' ', 'f']\n",
      "['g', 'e', 'e', 'k', 's', ' ', 'f', 'o']\n",
      "['g', 'e', 'e', 'k', 's', ' ', 'f', 'o', 'r']\n",
      "['g', 'e', 'e', 'k', 's', ' ', 'f', 'o', 'r', ' ']\n",
      "['g', 'e', 'e', 'k', 's', ' ', 'f', 'o', 'r', ' ', 'g']\n",
      "['g', 'e', 'e', 'k', 's', ' ', 'f', 'o', 'r', ' ', 'g', 'e']\n",
      "['g', 'e', 'e', 'k', 's', ' ', 'f', 'o', 'r', ' ', 'g', 'e', 'e']\n",
      "['g', 'e', 'e', 'k', 's', ' ', 'f', 'o', 'r', ' ', 'g', 'e', 'e', 'k']\n",
      "['g', 'e', 'e', 'k', 's', ' ', 'f', 'o', 'r', ' ', 'g', 'e', 'e', 'k', 's']\n",
      "s\n",
      "k\n",
      "e\n",
      "e\n",
      "g\n",
      " \n",
      "r\n",
      "o\n",
      "f\n",
      " \n",
      "s\n",
      "k\n",
      "e\n",
      "e\n",
      "g\n"
     ]
    },
    {
     "data": {
      "text/plain": [
       "'skeeg rof skeeg'"
      ]
     },
     "execution_count": 4,
     "metadata": {},
     "output_type": "execute_result"
    }
   ],
   "source": [
    "sinput = \"geeks for geeks\"\n",
    "\n",
    "# Output: 'skeeg rof skeeg'\n",
    "recursiveReverse(sinput)"
   ]
  },
  {
   "cell_type": "code",
   "execution_count": null,
   "id": "e06e4f95",
   "metadata": {},
   "outputs": [],
   "source": []
  },
  {
   "cell_type": "markdown",
   "id": "4b94c0ed",
   "metadata": {},
   "source": [
    "--------"
   ]
  },
  {
   "cell_type": "markdown",
   "id": "9ddd0192",
   "metadata": {},
   "source": [
    "## 1.38a) N-gram Dictionary\n",
    "\n",
    "Write a function `get_ngrams` to take in a word (string) and return a dictionary of n-grams and their frequency in the given string.\n",
    "\n",
    "```\n",
    "Input:\n",
    "string = 'banana' \n",
    "n=2\n",
    "\n",
    "Output:\n",
    "output = {'ba':1, 'an':2, 'na':2} \n",
    "\n",
    "\n",
    "Input:\n",
    "string = 'banana' \n",
    "n=3 \n",
    "\n",
    "Output:\n",
    "output = {'ban':1, 'ana':2, 'nan':1}\n",
    "```"
   ]
  },
  {
   "cell_type": "code",
   "execution_count": 103,
   "id": "f10444bd",
   "metadata": {},
   "outputs": [],
   "source": [
    "from collections import Counter\n",
    "\n",
    "def get_ngrams(n,string):\n",
    "    ngram = [string[i:i+n] for i in range(len(string)-n+1)]\n",
    "    return dict(Counter(ngram))"
   ]
  },
  {
   "cell_type": "code",
   "execution_count": 104,
   "id": "b43e94aa",
   "metadata": {},
   "outputs": [
    {
     "data": {
      "text/plain": [
       "{'ban': 1, 'ana': 2, 'nan': 1}"
      ]
     },
     "execution_count": 104,
     "metadata": {},
     "output_type": "execute_result"
    }
   ],
   "source": [
    "string = 'banana' \n",
    "n=3 \n",
    "\n",
    "get_ngrams(n,string)"
   ]
  },
  {
   "cell_type": "code",
   "execution_count": null,
   "id": "97ca0199",
   "metadata": {},
   "outputs": [],
   "source": []
  },
  {
   "cell_type": "markdown",
   "id": "d4b8f151",
   "metadata": {},
   "source": [
    "## 1.38b) Find Bigrams\n",
    "\n",
    "Write a function called find_bigrams that takes a sentence or paragraph of strings and returns a list of all bigrams.\n",
    "\n",
    "```\n",
    "Input:\n",
    "\n",
    "sentence = \"\"\"\n",
    "Have free hours and love children? \n",
    "Drive kids to school, soccer practice \n",
    "and other activities.\n",
    "\"\"\"\n",
    "\n",
    "Output:\n",
    "\n",
    "def find_bigrams(sentence) ->\n",
    "\n",
    " [('have', 'free'),\n",
    " ('free', 'hours'),\n",
    " ('hours', 'and'),\n",
    " ('and', 'love'),\n",
    " ('love', 'children?'),\n",
    " ('children?', 'drive'),\n",
    " ('drive', 'kids'),\n",
    " ('kids', 'to'),\n",
    " ('to', 'school,'),\n",
    " ('school,', 'soccer'),\n",
    " ('soccer', 'practice'),\n",
    " ('practice', 'and'),\n",
    " ('and', 'other'),\n",
    " ('other', 'activities.')]\n",
    "\n",
    "```\n"
   ]
  },
  {
   "cell_type": "code",
   "execution_count": 105,
   "id": "91291cc2",
   "metadata": {},
   "outputs": [],
   "source": [
    "def find_bigrams(s):\n",
    "    # .split() and lower case to create a list with each individual word as an input\n",
    "    words = s.lower().split()\n",
    "    print(words)\n",
    "    \n",
    "    bigram_list = list(zip(words, words[1:]))\n",
    "    return bigram_list\n",
    "    \n",
    "    '''\n",
    "    # alternative solution with loop\n",
    "    bigram_list = []\n",
    "    \n",
    "    # Now we have to loop through each word for k-1 times\n",
    "    for i in range(len(words)-1):\n",
    "        #strip the whitespace to ensure consistency\n",
    "        bigram_list.append((words[i].strip(), words[i+1].strip()))\n",
    "    return bigram_list\n",
    "    '''"
   ]
  },
  {
   "cell_type": "code",
   "execution_count": 106,
   "id": "e96f2bc1",
   "metadata": {},
   "outputs": [
    {
     "name": "stdout",
     "output_type": "stream",
     "text": [
      "['have', 'free', 'hours', 'and', 'love', 'children?', 'drive', 'kids', 'to', 'school,', 'soccer', 'practice', 'and', 'other', 'activities.']\n"
     ]
    },
    {
     "data": {
      "text/plain": [
       "[('have', 'free'),\n",
       " ('free', 'hours'),\n",
       " ('hours', 'and'),\n",
       " ('and', 'love'),\n",
       " ('love', 'children?'),\n",
       " ('children?', 'drive'),\n",
       " ('drive', 'kids'),\n",
       " ('kids', 'to'),\n",
       " ('to', 'school,'),\n",
       " ('school,', 'soccer'),\n",
       " ('soccer', 'practice'),\n",
       " ('practice', 'and'),\n",
       " ('and', 'other'),\n",
       " ('other', 'activities.')]"
      ]
     },
     "execution_count": 106,
     "metadata": {},
     "output_type": "execute_result"
    }
   ],
   "source": [
    "sentence = \"\"\"\n",
    "Have free hours and love children? \n",
    "Drive kids to school, soccer practice \n",
    "and other activities.\n",
    "\"\"\"\n",
    "\n",
    "find_bigrams(sentence)"
   ]
  },
  {
   "cell_type": "code",
   "execution_count": null,
   "id": "d84fe6ef",
   "metadata": {},
   "outputs": [],
   "source": []
  },
  {
   "cell_type": "markdown",
   "id": "5f2ce80d",
   "metadata": {},
   "source": [
    "--------"
   ]
  },
  {
   "cell_type": "markdown",
   "id": "62c10f96",
   "metadata": {},
   "source": [
    "## 1.39) Dictionary Unique Values\n",
    "\n",
    "You are given a dictionary with a key-value of {string: number} where values in the dictionary could be duplicates. You are required to extract the unique values from the dictionary where the value occurred only once. Return a list of values where they occur only once. **Note:** You can return the values in any order.\n",
    "\n",
    "```\n",
    "Input:\n",
    "dictionary = {\"key1\": 1, \"key2\": 1, \"key3\": 7, \"key4\": 3, \"key5\": 4, \"key6\": 7}\n",
    "\n",
    "Output:\n",
    "find_unique_values(dictionary) -> [3,4]\n",
    "# Only 3 and 4 occurred once.\n",
    "\n",
    "```"
   ]
  },
  {
   "cell_type": "code",
   "execution_count": 107,
   "id": "a8e75139",
   "metadata": {},
   "outputs": [],
   "source": [
    "def find_unique_values(d):\n",
    "    values = [i for i in d.values()]\n",
    "    print(values)\n",
    "    \n",
    "    uniques = [i for i in values if values.count(i) == 1]\n",
    "    return uniques"
   ]
  },
  {
   "cell_type": "code",
   "execution_count": 108,
   "id": "4969e8fe",
   "metadata": {},
   "outputs": [
    {
     "name": "stdout",
     "output_type": "stream",
     "text": [
      "[1, 1, 7, 3, 4, 7]\n"
     ]
    },
    {
     "data": {
      "text/plain": [
       "[3, 4]"
      ]
     },
     "execution_count": 108,
     "metadata": {},
     "output_type": "execute_result"
    }
   ],
   "source": [
    "dct = {\"key1\": 1, \"key2\": 1, \"key3\": 7, \"key4\": 3, \"key5\": 4, \"key6\": 7}\n",
    "\n",
    "find_unique_values(dct)"
   ]
  },
  {
   "cell_type": "code",
   "execution_count": null,
   "id": "0c6d6e60",
   "metadata": {},
   "outputs": [],
   "source": []
  },
  {
   "cell_type": "markdown",
   "id": "c4479d4e",
   "metadata": {},
   "source": [
    "--------"
   ]
  },
  {
   "cell_type": "markdown",
   "id": "cb2ecaa4",
   "metadata": {},
   "source": [
    "## 1.40) String Subsequence\n",
    "\n",
    "Given two strings, string1 and string2, write a function is_subsequence to find out if string1 is a subsequence of string2. **Bonus:** A subsequence is a sequence that can be derived from another sequence by deleting some elements without changing the order of the remaining elements.\n",
    "\n",
    "```\n",
    "Input:\n",
    "string1 = 'abc'\n",
    "string2 = 'asbsc'\n",
    "string3 = 'acedb'\n",
    "\n",
    "is_subsequence(string1, string2) -> True\n",
    "is_subsequence(string1, string3) -> False\n",
    "\n",
    "```"
   ]
  },
  {
   "cell_type": "code",
   "execution_count": 109,
   "id": "129467db",
   "metadata": {},
   "outputs": [],
   "source": [
    "def is_subsequence(string1,string2):\n",
    "    \n",
    "    j = 0 # Index of string1 \n",
    "    i = 0 # Index of string2 \n",
    "    \n",
    "    m = len(string1)\n",
    "    n = len(string2)\n",
    "    \n",
    "    # Traverse both string1 and string2  \n",
    "    while j<m and i<n: \n",
    "    \n",
    "    # Compare current character of string2 with \n",
    "    # first unmatched character of string1 \n",
    "        if string1[j] == string2[i]:     \n",
    "            j = j+1    \n",
    "        i = i + 1\n",
    "          \n",
    "    # If all characters of string1 matched, then j is equal to m \n",
    "    return j==m"
   ]
  },
  {
   "cell_type": "code",
   "execution_count": 110,
   "id": "47bfeed4",
   "metadata": {},
   "outputs": [
    {
     "data": {
      "text/plain": [
       "True"
      ]
     },
     "execution_count": 110,
     "metadata": {},
     "output_type": "execute_result"
    }
   ],
   "source": [
    "str1 = 'abc'\n",
    "str2 = 'asbsc'\n",
    "str3 = 'acedb'\n",
    "\n",
    "is_subsequence(str1, str2)"
   ]
  },
  {
   "cell_type": "code",
   "execution_count": 111,
   "id": "8a44c58d",
   "metadata": {},
   "outputs": [
    {
     "data": {
      "text/plain": [
       "False"
      ]
     },
     "execution_count": 111,
     "metadata": {},
     "output_type": "execute_result"
    }
   ],
   "source": [
    "is_subsequence(str1, str3)"
   ]
  },
  {
   "cell_type": "code",
   "execution_count": null,
   "id": "c901111f",
   "metadata": {},
   "outputs": [],
   "source": []
  },
  {
   "cell_type": "markdown",
   "id": "e4d04b42",
   "metadata": {},
   "source": [
    "--------"
   ]
  },
  {
   "cell_type": "markdown",
   "id": "119be3a7",
   "metadata": {},
   "source": [
    "## 1.41) Recurring Character\n",
    "\n",
    "Given a string, write a function recurring_char to find its first recurring character. Return None if there is no recurring character. Treat upper and lower case letters as distinct characters. You may assume the input string includes no spaces.\n",
    "\n",
    "```\n",
    "Example 1:\n",
    "\n",
    "Input:\n",
    "input = \"interviewquery\"\n",
    "\n",
    "Output:\n",
    "output = \"i\"\n",
    "\n",
    "Example 2:\n",
    "\n",
    "Input:\n",
    "input = \"interv\"\n",
    "\n",
    "Output:\n",
    "output = None\n",
    "```"
   ]
  },
  {
   "cell_type": "markdown",
   "id": "732f62f4",
   "metadata": {},
   "source": [
    "We know we have to store a unique set of characters of the input string and loop through the string to check which ones occur twice.\n",
    "\n",
    "Given that we have to return the first index of the second repeating character, we should be able to go through the string in one loop, save each unique character, and then just check if the character exists in that saved set. If it does, return the character."
   ]
  },
  {
   "cell_type": "code",
   "execution_count": 112,
   "id": "b6576910",
   "metadata": {},
   "outputs": [],
   "source": [
    "def recurring_char(input):\n",
    "    seen = set()\n",
    "    \n",
    "    for char in input:\n",
    "        if char in seen:\n",
    "            return char\n",
    "        seen.add(char)\n",
    "\n",
    "    return \"None\""
   ]
  },
  {
   "cell_type": "code",
   "execution_count": 113,
   "id": "5747646f",
   "metadata": {},
   "outputs": [
    {
     "data": {
      "text/plain": [
       "'i'"
      ]
     },
     "execution_count": 113,
     "metadata": {},
     "output_type": "execute_result"
    }
   ],
   "source": [
    "s1 = \"interviewquery\"\n",
    "recurring_char(s1)"
   ]
  },
  {
   "cell_type": "code",
   "execution_count": 114,
   "id": "4a3dfab8",
   "metadata": {},
   "outputs": [
    {
     "data": {
      "text/plain": [
       "'None'"
      ]
     },
     "execution_count": 114,
     "metadata": {},
     "output_type": "execute_result"
    }
   ],
   "source": [
    "s2 = \"interv\"\n",
    "recurring_char(s2)"
   ]
  },
  {
   "cell_type": "code",
   "execution_count": null,
   "id": "04ed0607",
   "metadata": {},
   "outputs": [],
   "source": []
  },
  {
   "cell_type": "markdown",
   "id": "c6400fae",
   "metadata": {},
   "source": [
    "--------"
   ]
  },
  {
   "cell_type": "markdown",
   "id": "0f72a0ce",
   "metadata": {},
   "source": [
    "## 1.42) Stop Words Filter\n",
    "\n",
    "Given a list of stop words, write a function stopwords_stripped that takes a string and returns a string stripped of the stop words.\n",
    "\n",
    "```\n",
    "Example:\n",
    "\n",
    "Input:\n",
    "stopwords = ['I','as','to','you','your','but','be','a']\n",
    "paragraph = 'I want to figure out how I can be a better data scientist'\n",
    "\n",
    "Output:\n",
    "def stopwords_stripped(paragraph,stopwords)\n",
    "     return(stripped_paragraph) ->\n",
    "\n",
    "stripped_paragraph = 'want figure out how can better data scientist'\n",
    "```"
   ]
  },
  {
   "cell_type": "code",
   "execution_count": 115,
   "id": "37a8dc3d",
   "metadata": {},
   "outputs": [],
   "source": [
    "# use list comprehension\n",
    "def stopwords_stripped(paragraph, stopwords):\n",
    "    # gives you ['i', 'as', 'to', 'you', 'your', 'but', 'be', 'a']\n",
    "    stopwords = [word.lower() for word in stopwords]\n",
    "    \n",
    "    return ' '.join([word for word in paragraph.lower().split() if word not in stopwords])"
   ]
  },
  {
   "cell_type": "code",
   "execution_count": 116,
   "id": "edb3c4a3",
   "metadata": {},
   "outputs": [
    {
     "data": {
      "text/plain": [
       "'want figure out how can better data scientist'"
      ]
     },
     "execution_count": 116,
     "metadata": {},
     "output_type": "execute_result"
    }
   ],
   "source": [
    "stopwords = ['I','as','to','you','your','but','be','a']\n",
    "para = 'I want to figure out how I can be a better data scientist'\n",
    "\n",
    "stopwords_stripped(para, stopwords)"
   ]
  },
  {
   "cell_type": "code",
   "execution_count": null,
   "id": "00bb9445",
   "metadata": {},
   "outputs": [],
   "source": []
  },
  {
   "cell_type": "markdown",
   "id": "c2f4795f",
   "metadata": {},
   "source": [
    "--------"
   ]
  },
  {
   "cell_type": "markdown",
   "id": "c84c586b",
   "metadata": {},
   "source": [
    "## 1.43) Replace Words with Stems\n",
    "\n",
    "In data science, there exists the concept of stemming, which is the heuristic of chopping off the end of a word to clean and bucket it into an easier feature set. Given a dictionary consisting of many roots and a sentence, write a function `replace_words` to stem all the words in the sentence with the root forming it. If a word has many roots that can form it, replace it with the root with the shortest length.\n",
    "\n",
    "```\n",
    "Example:\n",
    "\n",
    "Input:\n",
    "roots = [\"cat\", \"bat\", \"rat\"]\n",
    "sentence = \"the cattle was rattled by the battery\"\n",
    "\n",
    "Output:\n",
    "\"the cat was rat by the bat\"\n",
    "\n",
    "```"
   ]
  },
  {
   "cell_type": "code",
   "execution_count": 117,
   "id": "6d5705d8",
   "metadata": {},
   "outputs": [],
   "source": [
    "def replace_words(roots,sentence):\n",
    "    # split the sentence into a list\n",
    "    # ['the', 'cattle', 'was', 'rattled', 'by', 'the', 'battery']\n",
    "    words = sentence.split()\n",
    "    \n",
    "    j=0\n",
    "    \n",
    "    # we loop through each word in words\n",
    "    while j < len(words):\n",
    "        i = 0\n",
    "        \n",
    "        # we loop through each possible substring starting at the first letter\n",
    "        # If we find a prefix matching a root, we replace that word in \n",
    "        # the words list with the root it contains\n",
    "        while i < len(words[j]):\n",
    "            if words[j][:i] in roots:\n",
    "                words[j] = words[j][:i]\n",
    "                \n",
    "                # We need this statement to ensure that if a word contains two roots, \n",
    "                # we replace it with the shorter one\n",
    "                i=len(words[j])\n",
    "                \n",
    "            i=i+1\n",
    "        j=j+1\n",
    "    \n",
    "    new_sentence = \" \".join(words)\n",
    "    return(new_sentence)"
   ]
  },
  {
   "cell_type": "code",
   "execution_count": 118,
   "id": "0c782c71",
   "metadata": {},
   "outputs": [
    {
     "data": {
      "text/plain": [
       "'the cat was rat by the bat'"
      ]
     },
     "execution_count": 118,
     "metadata": {},
     "output_type": "execute_result"
    }
   ],
   "source": [
    "rt = [\"cat\", \"bat\", \"rat\"]\n",
    "st = \"the cattle was rattled by the battery\"\n",
    "\n",
    "replace_words(rt,st)"
   ]
  },
  {
   "cell_type": "code",
   "execution_count": null,
   "id": "04f66fb6",
   "metadata": {},
   "outputs": [],
   "source": []
  },
  {
   "cell_type": "markdown",
   "id": "fd8d051c",
   "metadata": {},
   "source": [
    "--------"
   ]
  },
  {
   "cell_type": "markdown",
   "id": "cf252226",
   "metadata": {},
   "source": [
    "## 1.44) Find Mismatched Words\n",
    "\n",
    "You are given two sentences as strings. Create a function that returns a list of all words that are not in both sentences. You can assume that the sentences have no punctuation marks, extra tabs, or spaces. **Note:** The strings \"Game\" and \"game\" should be considered the same word. Because of this, make sure all the strings in the list you output are in lowercase.\n",
    "\n",
    "```\n",
    "Example:\n",
    "\n",
    "Input:\n",
    "string1 = \"I want to eat fish today with my friends\"\n",
    "string2 = \"All I want is to eat fish today with my friends\"\n",
    "\n",
    "Output:\n",
    "def mismatched_words(string1,string2) -> [\"all\",\"is\"]\n",
    "```\n"
   ]
  },
  {
   "cell_type": "code",
   "execution_count": 119,
   "id": "439e48d4",
   "metadata": {},
   "outputs": [],
   "source": [
    "def mismatched_words(string1, string2):\n",
    "    result = []\n",
    "    \n",
    "    # {'my', 'to', 'want', 'today', 'friends', 'eat', 'with', 'i', 'fish'}\n",
    "    words1 = set([word.lower()\n",
    "                 for word in string1.split(' ') if word not in [\" \", \"\"]])\n",
    "    \n",
    "    # {'my', 'to', 'want', 'today', 'friends', 'is', 'eat', 'all', 'with', 'i', 'fish'}\n",
    "    words2 = set([word.lower()\n",
    "                 for word in string2.split(' ') if word not in [\" \", \"\"]])\n",
    "\n",
    "    return list(words1.symmetric_difference(words2))"
   ]
  },
  {
   "cell_type": "code",
   "execution_count": 120,
   "id": "0eff8940",
   "metadata": {},
   "outputs": [
    {
     "data": {
      "text/plain": [
       "['is', 'all']"
      ]
     },
     "execution_count": 120,
     "metadata": {},
     "output_type": "execute_result"
    }
   ],
   "source": [
    "str1 = \"I want to eat fish today with my friends\"\n",
    "str2 = \"All I want is to eat fish today with my friends\"\n",
    "\n",
    "mismatched_words(str1, str2)"
   ]
  },
  {
   "cell_type": "code",
   "execution_count": null,
   "id": "6db6621b",
   "metadata": {},
   "outputs": [],
   "source": []
  },
  {
   "cell_type": "markdown",
   "id": "d6c26869",
   "metadata": {},
   "source": [
    "--------"
   ]
  },
  {
   "cell_type": "markdown",
   "id": "1d4d300b",
   "metadata": {},
   "source": [
    "## 1.45) Root Mean Square Error\n",
    "\n",
    "Write a function `calculate_rmse` to calculate the root mean squared error of a regression model. The function should take in two lists, one that represents the predictions `y_pred` and another with the target values `y_true`.\n",
    "\n",
    "```\n",
    "y_pred = [3,4,5]\n",
    "y_true = [3,4,5]\n",
    "\n",
    "def calculate_rmse(y_pred,y_true) -> 0\n",
    "\n",
    "y_pred = [3,4,5]\n",
    "y_true = [5,4,3]\n",
    "\n",
    "def calculate_rmse(y_pred,y_true) -> 1.63\n",
    "```"
   ]
  },
  {
   "cell_type": "code",
   "execution_count": 121,
   "id": "46d6b81d",
   "metadata": {},
   "outputs": [],
   "source": [
    "import math\n",
    "\n",
    "def calculate_rmse(y_pred, y_true):\n",
    "    \n",
    "    if len(y_true) != len(y_pred):\n",
    "        print(\"Length of predictions are different sizes\")\n",
    "        return\n",
    "    \n",
    "    # loop through both lists and square the results and sum them\n",
    "    squares = sum((x - y)**2 for x, y in zip(y_true, y_pred))\n",
    "    \n",
    "    # apply the square root and divide by the number of values in the list\n",
    "    return math.sqrt(squares / len(y_true))"
   ]
  },
  {
   "cell_type": "code",
   "execution_count": 122,
   "id": "609e8b6e",
   "metadata": {},
   "outputs": [
    {
     "data": {
      "text/plain": [
       "1.632993161855452"
      ]
     },
     "execution_count": 122,
     "metadata": {},
     "output_type": "execute_result"
    }
   ],
   "source": [
    "y_pred = [3,4,5]\n",
    "y_true = [5,4,3]\n",
    "\n",
    "calculate_rmse(y_pred,y_true)"
   ]
  },
  {
   "cell_type": "code",
   "execution_count": null,
   "id": "9d6d1829",
   "metadata": {},
   "outputs": [],
   "source": []
  },
  {
   "cell_type": "markdown",
   "id": "438b9aed",
   "metadata": {},
   "source": [
    "--------"
   ]
  },
  {
   "cell_type": "markdown",
   "id": "10d66d88",
   "metadata": {},
   "source": [
    "## 1.46) Compute Deviation\n",
    "\n",
    "Write a function compute_deviation that takes in a list of dictionaries with a key and list of integers and returns a dictionary with the standard deviation of each list. **Note:** This should be done without using the NumPy built-in functions.\n",
    "\n",
    "```\n",
    "input = [\n",
    "    {\n",
    "        'key': 'list1',\n",
    "        'values': [4,5,2,3,4,5,2,3],\n",
    "    },\n",
    "    {\n",
    "        'key': 'list2',\n",
    "        'values': [1,1,34,12,40,3,9,7],\n",
    "    }\n",
    "]\n",
    "\n",
    "output = {'list1': 1.12, 'list2': 14.19}\n",
    "```"
   ]
  },
  {
   "cell_type": "code",
   "execution_count": 123,
   "id": "0a8268a1",
   "metadata": {},
   "outputs": [],
   "source": [
    "import math as m\n",
    "\n",
    "def mean(data):\n",
    "    return float(sum(data) / len(data))\n",
    "\n",
    "def stddev(data):\n",
    "    mu = mean(data)\n",
    "    variance = mean([(x - mu) ** 2 for x in data])\n",
    "    \n",
    "    standarddev = m.sqrt(variance)\n",
    "    return standarddev\n",
    "\n",
    "def compute_deviation(input):\n",
    "    new_dict = {}\n",
    "    for dic in input:\n",
    "        new_dict[dic.get('key')] = stddev(dic.get('values'))\n",
    "    return new_dict"
   ]
  },
  {
   "cell_type": "code",
   "execution_count": 124,
   "id": "aa71a8ee",
   "metadata": {},
   "outputs": [
    {
     "data": {
      "text/plain": [
       "{'list1': 1.118033988749895, 'list2': 14.185710239533304}"
      ]
     },
     "execution_count": 124,
     "metadata": {},
     "output_type": "execute_result"
    }
   ],
   "source": [
    "listd = [\n",
    "    {'key': 'list1',\n",
    "     'values': [4,5,2,3,4,5,2,3],\n",
    "    },\n",
    "    {'key': 'list2',\n",
    "     'values': [1,1,34,12,40,3,9,7],\n",
    "    }\n",
    "]\n",
    "\n",
    "compute_deviation(listd)"
   ]
  },
  {
   "cell_type": "code",
   "execution_count": 125,
   "id": "d17eb1ab",
   "metadata": {},
   "outputs": [
    {
     "data": {
      "text/plain": [
       "{'list1': 1.12, 'list2': 14.19}"
      ]
     },
     "execution_count": 125,
     "metadata": {},
     "output_type": "execute_result"
    }
   ],
   "source": [
    "# solution with numpy\n",
    "{i['key']: round(np.std(i['values']),2) for i in listd}"
   ]
  },
  {
   "cell_type": "code",
   "execution_count": null,
   "id": "5e7047a8",
   "metadata": {},
   "outputs": [],
   "source": []
  },
  {
   "cell_type": "markdown",
   "id": "da312da6",
   "metadata": {},
   "source": [
    "--------"
   ]
  },
  {
   "cell_type": "markdown",
   "id": "d43d9dfb",
   "metadata": {},
   "source": [
    "## 1.47) Fill None Values\n",
    "\n",
    "Given a sorted list of positive integers with some entries being None, create a function to return a new list where all None values are replaced with the most recent non-None value in the list. **Note:** If the first entry in the list is None, assume the previous entry was 0.\n",
    "\n",
    "```\n",
    "Input:\n",
    "input_list = [1,2,None,None,4,5,None]\n",
    "\n",
    "Output:\n",
    "def fill_none(input_list) -> [1,2,2,2,4,5,5] \n",
    "\n",
    "```"
   ]
  },
  {
   "cell_type": "code",
   "execution_count": 126,
   "id": "b7eb4937",
   "metadata": {},
   "outputs": [],
   "source": [
    "def fill_none(values):\n",
    "    prev_value = 0\n",
    "\n",
    "    result = []\n",
    "    for value in values:\n",
    "        if value is None:\n",
    "            result.append(prev_value)\n",
    "        else:\n",
    "            result.append(value)\n",
    "            prev_value = value\n",
    "\n",
    "    return result"
   ]
  },
  {
   "cell_type": "code",
   "execution_count": 127,
   "id": "f1bee952",
   "metadata": {},
   "outputs": [
    {
     "data": {
      "text/plain": [
       "[1, 2, 2, 2, 4, 5, 5]"
      ]
     },
     "execution_count": 127,
     "metadata": {},
     "output_type": "execute_result"
    }
   ],
   "source": [
    "input_list = [1,2,None,None,4,5,None]\n",
    "fill_none(input_list)"
   ]
  },
  {
   "cell_type": "code",
   "execution_count": null,
   "id": "dc8e3527",
   "metadata": {},
   "outputs": [],
   "source": []
  },
  {
   "cell_type": "markdown",
   "id": "5ff4b0c8",
   "metadata": {},
   "source": [
    "--------"
   ]
  },
  {
   "cell_type": "markdown",
   "id": "1f3ebf9b",
   "metadata": {},
   "source": [
    "## 1.48) Integer String Addition\n",
    "Write a Python function that adds together all combinations of adjacent integers of a given string of integers named int_str.\n",
    "\n",
    "```\n",
    "# Example 1\n",
    "Input:\n",
    "int_str = '12'\n",
    "\n",
    "Output:\n",
    "def int_str_addition -> 1 + 2 + 12 = 15\n",
    "\n",
    "# Example 2\n",
    "Input:\n",
    "\n",
    "int_str = '123'\n",
    "\n",
    "Output:\n",
    "#in this case, 13 is not part of our sum as 1 and 3 are not adjacent in '123'\n",
    "def int_str_addition(int_str) -> 1 + 2 + 3 + 12 + 23 + 123 = 164\n",
    "\n",
    "```"
   ]
  },
  {
   "cell_type": "code",
   "execution_count": 128,
   "id": "97b9633e",
   "metadata": {},
   "outputs": [],
   "source": [
    "def int_str_addition(int_str):\n",
    "    sum = 0\n",
    "    for i in range(len(int_str)):\n",
    "        for j in range(i+1, len(int_str)+1):\n",
    "            sum += int(int_str[i:j])\n",
    "    return sum"
   ]
  },
  {
   "cell_type": "code",
   "execution_count": 129,
   "id": "d01bbbca",
   "metadata": {},
   "outputs": [
    {
     "data": {
      "text/plain": [
       "164"
      ]
     },
     "execution_count": 129,
     "metadata": {},
     "output_type": "execute_result"
    }
   ],
   "source": [
    "ints = '123'\n",
    "int_str_addition(ints)"
   ]
  },
  {
   "cell_type": "code",
   "execution_count": null,
   "id": "0039fc3c",
   "metadata": {},
   "outputs": [],
   "source": []
  },
  {
   "cell_type": "markdown",
   "id": "8cfbed72",
   "metadata": {},
   "source": [
    "--------"
   ]
  },
  {
   "cell_type": "markdown",
   "id": "06e55e0f",
   "metadata": {},
   "source": [
    "## 1.49) Normalize Grades\n",
    "\n",
    "Given a list of tuples featuring names and grades on a test, write a function normalize_grades to normalize the values of the grades to a linear scale between 0 and 1.\n",
    "\n",
    "```\n",
    "Input:\n",
    "tuples = [\n",
    "    ('Jason', 94),\n",
    "    ('Tessa', 80),\n",
    "    ('Carla', 38),\n",
    "    ('Matt', 43),\n",
    "    ('Jessica', 100)\n",
    "]\n",
    "\n",
    "Output:\n",
    "def normalize_grades(tuples) - > [\n",
    "    ('Jason', 0.9),\n",
    "    ('Tessa', 0.68),\n",
    "    ('Carla', 0.0),\n",
    "    ('Matt', 0.08),\n",
    "    ('Jessica', 1.0)\n",
    "]\n",
    "\n",
    "```"
   ]
  },
  {
   "cell_type": "code",
   "execution_count": 130,
   "id": "339ae455",
   "metadata": {},
   "outputs": [],
   "source": [
    "def normalize_grades(tuples):\n",
    "    lowest_grade = min(tuples, key=lambda tuple: tuple[1])[1]\n",
    "    highest_grade = max(tuples, key=lambda tuple: tuple[1])[1]\n",
    "    \n",
    "    # (grade - min(grades)) / (max(grades) - min(grades))\n",
    "    output = [(t[0], (t[1] - lowest_grade)/(highest_grade - lowest_grade)) for t in tuples]\n",
    "    return output"
   ]
  },
  {
   "cell_type": "code",
   "execution_count": 131,
   "id": "acd3e7ee",
   "metadata": {},
   "outputs": [
    {
     "data": {
      "text/plain": [
       "[('Jason', 0.9032258064516129),\n",
       " ('Tessa', 0.6774193548387096),\n",
       " ('Carla', 0.0),\n",
       " ('Matt', 0.08064516129032258),\n",
       " ('Jessica', 1.0)]"
      ]
     },
     "execution_count": 131,
     "metadata": {},
     "output_type": "execute_result"
    }
   ],
   "source": [
    "tups = [\n",
    "    ('Jason', 94),\n",
    "    ('Tessa', 80),\n",
    "    ('Carla', 38),\n",
    "    ('Matt', 43),\n",
    "    ('Jessica', 100)\n",
    "]\n",
    "\n",
    "normalize_grades(tups)"
   ]
  },
  {
   "cell_type": "code",
   "execution_count": null,
   "id": "dd9f27f8",
   "metadata": {},
   "outputs": [],
   "source": []
  },
  {
   "cell_type": "markdown",
   "id": "4081b3be",
   "metadata": {},
   "source": [
    "--------"
   ]
  },
  {
   "cell_type": "markdown",
   "id": "fb9c79fc",
   "metadata": {},
   "source": [
    "## 1.50) Truncated Distribution\n",
    "Given a percentile_threshold, sample size N, and mean m and standard deviation sd of the normal distribution, write a function `truncated_dist` to simulate a normal distribution truncated at percentile_threshold.\n",
    "\n",
    "```\n",
    "Input:\n",
    "\n",
    "m = 2\n",
    "sd = 1\n",
    "n = 6\n",
    "percentile_threshold = 0.75\n",
    "\n",
    "Output:\n",
    "# All values in the output sample are in the lower 75% = percentile_threshold of the distribution.\n",
    "\n",
    "def truncated_dist(m,sd,n, percentile_threshold): ->\n",
    " [2, 1.1, 2.2, 3, 1.5, 1.3]\n",
    "\n",
    "```"
   ]
  },
  {
   "cell_type": "code",
   "execution_count": 134,
   "id": "248c1194",
   "metadata": {},
   "outputs": [],
   "source": [
    "import numpy as np\n",
    "import scipy.stats as st\n",
    "\n",
    "def truncated_dist(m,sd,n,percentile_threshold):\n",
    "\n",
    "    # truncate distribution at point z below 75 percentile of CDF\n",
    "    lim = st.norm(m,sd).ppf(percentile_threshold)\n",
    "    \n",
    "    # initialize an array v of size n fill it with entries \n",
    "    # from the normal distribution that are less than or equal to our lim\n",
    "    v = [0] * n\n",
    "    i = 0\n",
    "    while i < n:\n",
    "        r = np.random.normal(m, sd, 1)[0]\n",
    "        if r <= lim:\n",
    "            v[i] = round(r,2)\n",
    "            i = i + 1\n",
    "\n",
    "    return(v)\n"
   ]
  },
  {
   "cell_type": "code",
   "execution_count": 135,
   "id": "166ba611",
   "metadata": {},
   "outputs": [
    {
     "data": {
      "text/plain": [
       "[1.64, 2.59, 1.65, 1.6, 0.26, 1.59]"
      ]
     },
     "execution_count": 135,
     "metadata": {},
     "output_type": "execute_result"
    }
   ],
   "source": [
    "m = 2\n",
    "sd = 1\n",
    "n = 6\n",
    "pct = 0.75\n",
    "\n",
    "truncated_dist(m,sd,n,pct)"
   ]
  },
  {
   "cell_type": "code",
   "execution_count": null,
   "id": "4939e1ff",
   "metadata": {},
   "outputs": [],
   "source": []
  },
  {
   "cell_type": "markdown",
   "id": "d8a02174",
   "metadata": {},
   "source": [
    "--------"
   ]
  },
  {
   "cell_type": "markdown",
   "id": "d50cc598",
   "metadata": {},
   "source": [
    "## 1.51) Weekly Aggregation\n",
    "\n",
    "Given a list of timestamps in sequential order, return a list of lists grouped by week (7 days) using the first timestamp as the starting point.\n",
    "\n",
    "```\n",
    "Input:\n",
    "ts = [\n",
    "    '2019-01-01', \n",
    "    '2019-01-02',\n",
    "    '2019-01-08', \n",
    "    '2019-02-01', \n",
    "    '2019-02-02',\n",
    "    '2019-02-05',\n",
    "]\n",
    "\n",
    "Output:\n",
    "def weekly_aggregation(ts) -> \n",
    "[\n",
    "    ['2019-01-01', '2019-01-02'], \n",
    "    ['2019-01-08'], \n",
    "    ['2019-02-01', '2019-02-02'],\n",
    "    ['2019-02-05'],\n",
    "]\n",
    "\n",
    "```"
   ]
  },
  {
   "cell_type": "code",
   "execution_count": 136,
   "id": "c020e27f",
   "metadata": {},
   "outputs": [],
   "source": [
    "import datetime\n",
    "from datetime import datetime\n",
    "from collections import defaultdict\n",
    "\n",
    "def read_date(date):\n",
    "    return datetime.strptime(date, \"%Y-%m-%d\")\n",
    "\n",
    "def weeks_from_date(starting_date, date):\n",
    "    delta = read_date(date) - read_date(starting_date)\n",
    "    return delta.days // 7\n",
    "\n",
    "def group_by_weeks(ts):\n",
    "    starting_date = ts[0]\n",
    "    grouped = defaultdict(list)\n",
    "    for date in ts:\n",
    "        grouped[weeks_from_date(starting_date, date)].append(date)\n",
    "    return list(grouped.values())"
   ]
  },
  {
   "cell_type": "code",
   "execution_count": 137,
   "id": "c8318574",
   "metadata": {},
   "outputs": [
    {
     "data": {
      "text/plain": [
       "[['2019-01-01', '2019-01-02'],\n",
       " ['2019-01-08'],\n",
       " ['2019-02-01', '2019-02-02'],\n",
       " ['2019-02-05']]"
      ]
     },
     "execution_count": 137,
     "metadata": {},
     "output_type": "execute_result"
    }
   ],
   "source": [
    "ts = [\n",
    "    '2019-01-01', \n",
    "    '2019-01-02',\n",
    "    '2019-01-08', \n",
    "    '2019-02-01', \n",
    "    '2019-02-02',\n",
    "    '2019-02-05',\n",
    "]\n",
    "\n",
    "group_by_weeks(ts)"
   ]
  },
  {
   "cell_type": "code",
   "execution_count": null,
   "id": "f14e8fe3",
   "metadata": {},
   "outputs": [],
   "source": []
  },
  {
   "cell_type": "markdown",
   "id": "2751be88",
   "metadata": {},
   "source": [
    "--------"
   ]
  },
  {
   "cell_type": "markdown",
   "id": "ff2e165a",
   "metadata": {},
   "source": [
    "## 1.52) Business Days\n",
    "Given two dates, write a program to find the number of business days that exist between the date range.\n",
    "\n",
    "```\n",
    "Input:\n",
    "date1 = 2021-01-31\n",
    "date2 = 2021-02-18\n",
    "\n",
    "Output:\n",
    "def delta_buss_days(date1,date2) -> 14\n",
    "\n",
    "```"
   ]
  },
  {
   "cell_type": "code",
   "execution_count": 138,
   "id": "36eca78e",
   "metadata": {},
   "outputs": [],
   "source": [
    "import pandas as pd\n",
    "\n",
    "def delta_buss_days(d1, d2):\n",
    "    # get a list of dates between the given date range\n",
    "    dates = pd.date_range(d1,d2)\n",
    "    \n",
    "    # convert each date to 1...7 corresponding to monday to sunday\n",
    "    daynumbers = [i.isoweekday() for i in dates]\n",
    "    print(daynumbers)\n",
    "    \n",
    "    # only count weekdays where iso numbers are 1 to 5\n",
    "    return len([i for i in daynumbers if i <= 5])"
   ]
  },
  {
   "cell_type": "code",
   "execution_count": 139,
   "id": "f13f68b0",
   "metadata": {},
   "outputs": [
    {
     "name": "stdout",
     "output_type": "stream",
     "text": [
      "[7, 1, 2, 3, 4, 5, 6, 7, 1, 2, 3, 4, 5, 6, 7, 1, 2, 3, 4]\n"
     ]
    },
    {
     "data": {
      "text/plain": [
       "14"
      ]
     },
     "execution_count": 139,
     "metadata": {},
     "output_type": "execute_result"
    }
   ],
   "source": [
    "date1 = '2021-01-31'\n",
    "date2 = '2021-02-18'\n",
    "\n",
    "delta_buss_days(date1,date2)"
   ]
  },
  {
   "cell_type": "code",
   "execution_count": null,
   "id": "54674dc8",
   "metadata": {},
   "outputs": [],
   "source": []
  },
  {
   "cell_type": "markdown",
   "id": "10df3249",
   "metadata": {},
   "source": [
    "--------"
   ]
  },
  {
   "cell_type": "markdown",
   "id": "7bb16e1b",
   "metadata": {},
   "source": [
    "## 1.53) Biggest Tip\n",
    "\n",
    "Given two nonempty lists of user_ids and tips, write a function most_tips to find the user that tipped the most.\n",
    "\n",
    "```\n",
    "Input:\n",
    "\n",
    "user_ids = [103, 105, 105, 107, 106, 103, 102, 108, 107, 103, 102]\n",
    "tips = [2, 5, 1, 0, 2, 1, 1, 0, 0, 2, 2]\n",
    "\n",
    "Output:\n",
    "\n",
    "def most_tips(user_ids,tips) -> 105\n",
    "```\n",
    "\n",
    "Let’s loop through each user and their tip, sum the tips up for each user, and then find the user with the highest amount of tip. We can then find the user with the highest tip by sorting by the tip value. Additionally, we can use Python’s collection package that allows us to sort our dictionary by calling the function `most_common()`. This function sorts by the value and returns a sorted dictionary. Then all we have to do is grab the first value."
   ]
  },
  {
   "cell_type": "code",
   "execution_count": 140,
   "id": "369a5199",
   "metadata": {},
   "outputs": [],
   "source": [
    "from collections import Counter\n",
    "\n",
    "def most_tips(user_ids,tips):\n",
    "    dct = Counter() \n",
    "    \n",
    "    # create an index and value for each user_id\n",
    "    for i, v in enumerate(user_ids):\n",
    "        dct[v] += tips[i]\n",
    "        print(dct)\n",
    "    \n",
    "    # sorts and gets the highest tip user_id\n",
    "    return(dct.most_common()[0][0])"
   ]
  },
  {
   "cell_type": "code",
   "execution_count": 141,
   "id": "966c22cb",
   "metadata": {},
   "outputs": [
    {
     "name": "stdout",
     "output_type": "stream",
     "text": [
      "Counter({103: 2})\n",
      "Counter({105: 5, 103: 2})\n",
      "Counter({105: 6, 103: 2})\n",
      "Counter({105: 6, 103: 2, 107: 0})\n",
      "Counter({105: 6, 103: 2, 106: 2, 107: 0})\n",
      "Counter({105: 6, 103: 3, 106: 2, 107: 0})\n",
      "Counter({105: 6, 103: 3, 106: 2, 102: 1, 107: 0})\n",
      "Counter({105: 6, 103: 3, 106: 2, 102: 1, 107: 0, 108: 0})\n",
      "Counter({105: 6, 103: 3, 106: 2, 102: 1, 107: 0, 108: 0})\n",
      "Counter({105: 6, 103: 5, 106: 2, 102: 1, 107: 0, 108: 0})\n",
      "Counter({105: 6, 103: 5, 102: 3, 106: 2, 107: 0, 108: 0})\n"
     ]
    },
    {
     "data": {
      "text/plain": [
       "105"
      ]
     },
     "execution_count": 141,
     "metadata": {},
     "output_type": "execute_result"
    }
   ],
   "source": [
    "user_ids = [103, 105, 105, 107, 106, 103, 102, 108, 107, 103, 102]\n",
    "tips = [2, 5, 1, 0, 2, 1, 1, 0, 0, 2, 2]\n",
    "\n",
    "most_tips(user_ids,tips)"
   ]
  },
  {
   "cell_type": "code",
   "execution_count": 142,
   "id": "c56df2a2",
   "metadata": {},
   "outputs": [
    {
     "name": "stdout",
     "output_type": "stream",
     "text": [
      "user_id: 105 tips the most\n"
     ]
    }
   ],
   "source": [
    "# solution 2\n",
    "dct2 = {}\n",
    "\n",
    "for i, v in enumerate(user_ids):\n",
    "    if v in dct2:\n",
    "        dct2[v]+=tips[i]\n",
    "    else:\n",
    "        dct2[v]=tips[i]\n",
    "        \n",
    "print(\"user_id:\",max(dct2,key=dct2.get), \"tips the most\")"
   ]
  },
  {
   "cell_type": "code",
   "execution_count": null,
   "id": "9fe96325",
   "metadata": {},
   "outputs": [],
   "source": []
  },
  {
   "cell_type": "markdown",
   "id": "f7612538",
   "metadata": {},
   "source": [
    "--------"
   ]
  },
  {
   "cell_type": "markdown",
   "id": "b8e4f52d",
   "metadata": {},
   "source": [
    "## 1.54) Minimum Change\n",
    "\n",
    "Write a function find_change to find the minimum number of coins that make up the given amount of change cents. Assume we only have coins of value 1, 5, 10, and 25 cents.\n",
    "\n",
    "```\n",
    "Example:\n",
    "\n",
    "Input:\n",
    "cents = 73\n",
    "\n",
    "Output:\n",
    "# (25 + 25 + 10 + 10 + 1 + 1 + 1)\n",
    "def find_change(cents) -> 7 coins\n",
    "````"
   ]
  },
  {
   "cell_type": "code",
   "execution_count": 143,
   "id": "47c92a61",
   "metadata": {},
   "outputs": [],
   "source": [
    "import math\n",
    "\n",
    "def find_change(cents):\n",
    "    coins = [25, 10, 5, 1]\n",
    "    coin_count = 0\n",
    "    \n",
    "    # 73/25 -> 2 coins, cents (ie. remainder) = 23\n",
    "    # then 23/10 -> 2 coins, cents = 3\n",
    "    # then 3/5 -> 0 coin, cents = 3\n",
    "    # then 3/1 -> 3 coins, cents = 0\n",
    "    for coin in coins:\n",
    "        coin_count += math.floor(cents/coin)\n",
    "        cents %= coin\n",
    "        print(cents)\n",
    "        \n",
    "    return coin_count"
   ]
  },
  {
   "cell_type": "code",
   "execution_count": 144,
   "id": "8ee36c84",
   "metadata": {},
   "outputs": [
    {
     "name": "stdout",
     "output_type": "stream",
     "text": [
      "23\n",
      "3\n",
      "3\n",
      "0\n"
     ]
    },
    {
     "data": {
      "text/plain": [
       "7"
      ]
     },
     "execution_count": 144,
     "metadata": {},
     "output_type": "execute_result"
    }
   ],
   "source": [
    "cts = 73\n",
    "find_change(cts)"
   ]
  },
  {
   "cell_type": "code",
   "execution_count": null,
   "id": "e015ce96",
   "metadata": {},
   "outputs": [],
   "source": []
  },
  {
   "cell_type": "markdown",
   "id": "34138cf1",
   "metadata": {},
   "source": [
    "--------"
   ]
  },
  {
   "cell_type": "markdown",
   "id": "769a3a27",
   "metadata": {},
   "source": [
    "## 1.55) American Football Scoring\n",
    "\n",
    "There are a few ways we can score in American Football:\n",
    "```\n",
    "- 1 point - After scoring a touchdown, the team can choose to score a field goal\n",
    "- 2 points - (1) after scoring touchdown, a team can choose to score a conversion, \n",
    "  when the team attempts to score a secondary touchdown or (2) an uncommon way to \n",
    "  score, a safety is score when the opposing team causes the ball to become dead\n",
    "- 3 points - If no touchdown is scored on the possession, a team can attempt to \n",
    "  make a field goal\n",
    "- 6 points - Awarded for a touchdown\n",
    "```\n",
    "\n",
    "Given the above the potential point values for American Football are:\n",
    "```\n",
    "- 2 points - safety\n",
    "- 3 points - only field goal\n",
    "- 6 points - only touchdown\n",
    "- 7 points - touchdown + field goal\n",
    "- 8 points - touchdown + conversion\n",
    "```\n",
    "\n",
    "Given a score value, can you write a function that lists the possible ways the score could have been achieved? For example, if you're given the value 10 the potential values are:\n",
    "```\n",
    "- 8 points (touchdown + conversion) + 2 points (safety)\n",
    "- 6 points (only touchdown) + 2x2 points (safety)\n",
    "- 7 points (touchdown + field goal) + 3 points (only field goal)\n",
    "- 5x2 points (safety)\n",
    "- 2x2 points (safety) + 2x3 points (only field goal)\n",
    "```\n",
    "\n",
    "### Solution:\n",
    "The approach we took computed a table in increasing score value. We put all potential_values within an array. We started by initializing the table with the ways to score no points (e.g. 0 of each possible value within the potential_values array).\n",
    "\n",
    "When we compute the score, i, for each value we take all of the existing arrangements for the score and add a new score arrangement to include the point value. If the arrangement doesn't exist for a given score, we don't add it. We also exclude results that fall outside of the range for the score."
   ]
  },
  {
   "cell_type": "code",
   "execution_count": 145,
   "id": "e62ec590",
   "metadata": {},
   "outputs": [],
   "source": [
    "import copy\n",
    "\n",
    "# create the array of potential values\n",
    "potential_values = [2,3,6,7,8]\n",
    "\n",
    "def possibleFootballScores(score):\n",
    "    \n",
    "    # initalizing table with a way to score 0 points\n",
    "    table = {0: [{}] }\n",
    "    \n",
    "    for i in range (1, score + 1):\n",
    "        table[i] = []\n",
    "        for value in potential_values:\n",
    "            if i - value < 0 or i - value not in table:\n",
    "                # if we can't fit it we skip the value\n",
    "                continue\n",
    "                \n",
    "            for score_arrange in table[i - value]:\n",
    "                # for each score arrangement in the previous total, \n",
    "                # we're append it to this value\n",
    "                new_score_arrange = copy.copy(score_arrange)\n",
    "                new_score_arrange[value] = new_score_arrange.get(value, 0) + 1\n",
    "\n",
    "                if new_score_arrange not in table[i]:\n",
    "                    # if we haven't already seen this arrangement, \n",
    "                    # we're going to add it\n",
    "                    table[i].append(new_score_arrange)\n",
    "    return table[score]"
   ]
  },
  {
   "cell_type": "code",
   "execution_count": 146,
   "id": "331e9d9e",
   "metadata": {},
   "outputs": [
    {
     "data": {
      "text/plain": [
       "[{2: 5}, {3: 2, 2: 2}, {6: 1, 2: 2}, {8: 1, 2: 1}, {7: 1, 3: 1}]"
      ]
     },
     "execution_count": 146,
     "metadata": {},
     "output_type": "execute_result"
    }
   ],
   "source": [
    "# driver code\n",
    "score = 10\n",
    "# Output: [{2: 5}, {3: 2, 2: 2}, {6: 1, 2: 2}, {8: 1, 2: 1}, {7: 1, 3: 1}]\n",
    "possibleFootballScores(score)"
   ]
  },
  {
   "cell_type": "code",
   "execution_count": null,
   "id": "72415e8a",
   "metadata": {},
   "outputs": [],
   "source": []
  },
  {
   "cell_type": "markdown",
   "id": "0377c697",
   "metadata": {},
   "source": [
    "--------"
   ]
  },
  {
   "cell_type": "markdown",
   "id": "8861039f",
   "metadata": {},
   "source": [
    "## 1.56) One edit away\n",
    "Write a function to return a boolean that indicates if two strings are one edit away from being identical. The function should take in 2 strings and return a boolean. The definition of an \"edit\" is as follows:\n",
    "\n",
    "```\n",
    "    Insert one character\n",
    "    Remove one character\n",
    "    Replace one character\n",
    "```\n",
    "\n",
    "A few examples of inputs and the function result are listed below.\n",
    "\n",
    "```\n",
    "OneEditAway(\"pea\", \"peas\") = True\n",
    "OneEditAway(\"pea\", \"fleas\") = False\n",
    "OneEditAway(\"pea\", \"lea\") = True\n",
    "OneEditAway(\"pea\", \"seas\") = False\n",
    "```"
   ]
  },
  {
   "cell_type": "code",
   "execution_count": 147,
   "id": "02a33a8a",
   "metadata": {},
   "outputs": [],
   "source": [
    "def OneEditAway(str1, str2):\n",
    "    \n",
    "    # we want the longest string first\n",
    "    if len(str1) > len(str2):\n",
    "        str2, str1 = str1, str2\n",
    "    \n",
    "    # get the difference between the two string lengths\n",
    "    length_delta = len(str2) - len(str1)\n",
    "\n",
    "    # if the delta is greater than 2, we know we are not 1 change away\n",
    "    if length_delta > 2 : return False\n",
    "\n",
    "    # set a variable is_different which will turn to true if the \n",
    "    # string is different\n",
    "    is_different = False\n",
    "    i = j = 0\n",
    "    \n",
    "    # iterate through first string\n",
    "    while i < len(str1):\n",
    "        # if characters bewteen string1 and string2 don't line up, we enter this loop\n",
    "        if str1[i] != str2[j]:\n",
    "            # check to see if we previously change the is_different flag to true\n",
    "            if is_different: return False\n",
    "            # if not, we will set it to true\n",
    "            is_different = True\n",
    "            \n",
    "            # size delta is greater than 0 for inserstion, we increase\n",
    "            # the longer string by 1 so we can compare the next characters \n",
    "            if length_delta > 0:\n",
    "                i += 1\n",
    "                continue\n",
    "                \n",
    "        # increase our counters\n",
    "        i += 1\n",
    "        j += 1\n",
    "\n",
    "    return is_different or length_delta > 0"
   ]
  },
  {
   "cell_type": "code",
   "execution_count": 148,
   "id": "547a2906",
   "metadata": {},
   "outputs": [
    {
     "data": {
      "text/plain": [
       "True"
      ]
     },
     "execution_count": 148,
     "metadata": {},
     "output_type": "execute_result"
    }
   ],
   "source": [
    "OneEditAway(\"pea\", \"peas\")\n",
    "# Output: True"
   ]
  },
  {
   "cell_type": "code",
   "execution_count": 149,
   "id": "2b50d954",
   "metadata": {},
   "outputs": [
    {
     "data": {
      "text/plain": [
       "False"
      ]
     },
     "execution_count": 149,
     "metadata": {},
     "output_type": "execute_result"
    }
   ],
   "source": [
    "OneEditAway(\"pea\", \"fleas\")\n",
    "# Output: False"
   ]
  },
  {
   "cell_type": "code",
   "execution_count": null,
   "id": "a5df7112",
   "metadata": {},
   "outputs": [],
   "source": []
  },
  {
   "cell_type": "markdown",
   "id": "c2792346",
   "metadata": {},
   "source": [
    "--------"
   ]
  },
  {
   "cell_type": "markdown",
   "id": "fc050725",
   "metadata": {},
   "source": [
    "## 1.57) Acquisition Threshold\n",
    "\n",
    "Capital One has two levels of customer acquisition strategies for customers that are opening credit cards. For high spending customers, Capital One will give clients a one-time bonus of 800 dollars. For everyone else, they give a 100 dollar bonus. Write a function in Python that takes a list of client spends as floats and figures out the threshold to divide the high spending vs low spending customers.\n",
    "\n",
    "```\n",
    "Input:\n",
    "customers_spending = [1000, 1001, 1002, 1003, 1004, 1005,\n",
    "             1006, 1007, 1008, 1009, 1010, 1011, 1012]\n",
    "margin = 0.1\n",
    "\n",
    "Output:\n",
    "get_threshold(customers_spending, margin) -> 1012.0\n",
    "\n",
    "```"
   ]
  },
  {
   "cell_type": "markdown",
   "id": "55bfc21d",
   "metadata": {},
   "source": [
    "Let’s look at the problem in terms of benefits. We value customers with high costs because we get more from commissions or interest. Therefore, it is important for us to attract and retain such customers. When calculating bonuses, we should be guided by the fact that we will not only receive new customers (or leave old ones) but also receive at least as much as we spent.\n",
    "\n",
    "We will consider the threshold based on customer spending data (this can be aggregated data for a month or a one-time payment of a client).\n",
    "\n",
    "Next, we will encounter some problems:\n",
    "\n",
    "1. There can be a lot of data and one machine can not cope with their processing using traditional approaches.\n",
    "2. It is necessary to take into account outliers in the data: some customers may spend more than any other customer once or several times on a regular basis, but this is an exception (imagine that the richest person in the world uses this service and spends as much as no one can not).\n",
    "\n",
    "We need to either get rid of outliers or use methods that will not suffer from them. For example, we can take the 3rd quartile (Q3) - this is the average value between the median and the highest value in the data set. It is also known as the upper quartile or the 75th empirical quartile, and 75% of the data is below this point. Alternatively, we can take any other percentile (for example, the 80th).\n",
    "\n",
    "The advantage of choosing the nth percentile is that we can predict how many bonuses we have to pay. If we take the 3rd quartile, we can assume that 75% of the costs of future customers will fit the criterion for a bonus of $100. This gives you the opportunity to calculate which percentile is the most beneficial for you."
   ]
  },
  {
   "cell_type": "code",
   "execution_count": 150,
   "id": "2fc8595d",
   "metadata": {},
   "outputs": [],
   "source": [
    "import math\n",
    "\n",
    "def get_threshold(spends, margin=0.1):\n",
    "    median = np.median(spends)\n",
    "    percentile_n = (800 - median * margin) / 700\n",
    "    \n",
    "    if percentile_n > 1:\n",
    "        percentile_n = 1\n",
    "    elif percentile_n < 0:\n",
    "        percentile_n = 0.1\n",
    "    \n",
    "    percentile_n *= 100\n",
    "    percentile_n = math.ceil(percentile_n)\n",
    "    \n",
    "    return np.percentile(spends, percentile_n)"
   ]
  },
  {
   "cell_type": "markdown",
   "id": "15e5e1fc",
   "metadata": {},
   "source": [
    "We will get a threshold of 4223.5. So then we can choose every value that is greater than 4223.5."
   ]
  },
  {
   "cell_type": "code",
   "execution_count": 151,
   "id": "d088a915",
   "metadata": {},
   "outputs": [
    {
     "data": {
      "text/plain": [
       "4223.500000000001"
      ]
     },
     "execution_count": 151,
     "metadata": {},
     "output_type": "execute_result"
    }
   ],
   "source": [
    "list_capone = [704, 704, 795, 1103, 1127, 1461, 1528, 1559, 1658, 1823, 2011,\n",
    "2031, 2063, 2154, 2291, 2293, 2335, 2338, 2517, 2526, 2977, 3014,\n",
    "3100, 3335, 3359, 3532, 3543, 3561, 3858, 3977, 4097, 4120, 4164,\n",
    "4339, 4463, 4549, 4637, 4785, 5132, 5199, 5360, 5799, 6027, 6028,\n",
    "6082, 6194, 6242, 6660, 6940, 6959]\n",
    "\n",
    "get_threshold(list_capone, 0.1)"
   ]
  },
  {
   "cell_type": "code",
   "execution_count": 152,
   "id": "17581121",
   "metadata": {},
   "outputs": [
    {
     "data": {
      "text/plain": [
       "1012.0"
      ]
     },
     "execution_count": 152,
     "metadata": {},
     "output_type": "execute_result"
    }
   ],
   "source": [
    "list_captwo = [1000, 1001, 1002, 1003, 1004, 1005,\n",
    "             1006, 1007, 1008, 1009, 1010, 1011, 1012]\n",
    "\n",
    "get_threshold(list_captwo, 0.1)"
   ]
  },
  {
   "cell_type": "code",
   "execution_count": null,
   "id": "06b53090",
   "metadata": {},
   "outputs": [],
   "source": []
  },
  {
   "cell_type": "markdown",
   "id": "a53deb34",
   "metadata": {},
   "source": [
    "--------"
   ]
  },
  {
   "cell_type": "code",
   "execution_count": null,
   "id": "dc2ce9eb",
   "metadata": {},
   "outputs": [],
   "source": []
  }
 ],
 "metadata": {
  "kernelspec": {
   "display_name": "Python 3",
   "language": "python",
   "name": "python3"
  },
  "language_info": {
   "codemirror_mode": {
    "name": "ipython",
    "version": 3
   },
   "file_extension": ".py",
   "mimetype": "text/x-python",
   "name": "python",
   "nbconvert_exporter": "python",
   "pygments_lexer": "ipython3",
   "version": "3.8.8"
  }
 },
 "nbformat": 4,
 "nbformat_minor": 5
}
